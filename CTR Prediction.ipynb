{
 "cells": [
  {
   "cell_type": "code",
   "execution_count": 1,
   "metadata": {},
   "outputs": [
    {
     "name": "stderr",
     "output_type": "stream",
     "text": [
      "/anaconda3/lib/python3.6/site-packages/h5py/__init__.py:36: FutureWarning: Conversion of the second argument of issubdtype from `float` to `np.floating` is deprecated. In future, it will be treated as `np.float64 == np.dtype(float).type`.\n",
      "  from ._conv import register_converters as _register_converters\n",
      "Using TensorFlow backend.\n"
     ]
    }
   ],
   "source": [
    "#Import libraries\n",
    "import pandas as pd\n",
    "import numpy as np\n",
    "import matplotlib.pyplot as plt\n",
    "import seaborn as sns\n",
    "from sklearn.preprocessing import MinMaxScaler\n",
    "import sklearn.model_selection\n",
    "from sklearn.model_selection import cross_val_score, StratifiedKFold, GridSearchCV\n",
    "from sklearn.feature_selection import RFE\n",
    "from sklearn.tree import DecisionTreeClassifier\n",
    "from sklearn.linear_model import LogisticRegression\n",
    "import xgboost\n",
    "from xgboost import XGBClassifier\n",
    "from sklearn.metrics import confusion_matrix, accuracy_score, roc_auc_score, classification_report, log_loss\n",
    "import keras\n",
    "from keras import backend as K\n",
    "import tensorflow as tf\n",
    "from keras.models import Sequential\n",
    "from keras.layers.core import Dense, Activation\n",
    "from keras.optimizers import SGD, RMSprop, Adagrad, Adam\n",
    "from keras.utils import np_utils\n",
    "from keras.layers.core import Dropout"
   ]
  },
  {
   "cell_type": "markdown",
   "metadata": {},
   "source": [
    "### Content\n",
    "- Preliminary EDA\n",
    "- EDA of selected features & correlation\n",
    "\n",
    "Preprocessing\n",
    "- Drop selected features\n",
    "- Encoding\n",
    "- Scaling\n",
    "\n",
    "Prepare test and training dataset\n",
    "\n",
    "Models\n",
    "- Descision Tree [X]\n",
    "- Logistic regression [X]\n",
    "- XGBoost (eXtreme Gradient Boosting) [X]\n",
    "- Multilayer Perceptron with Focal Loss [X]\n",
    "\n",
    "For all models\n",
    "- Hyperparameter tuninig\n",
    "- Stratified Cross validation & test "
   ]
  },
  {
   "cell_type": "markdown",
   "metadata": {},
   "source": [
    "# Import data"
   ]
  },
  {
   "cell_type": "code",
   "execution_count": 2,
   "metadata": {},
   "outputs": [],
   "source": [
    "#specify date format before import\n",
    "parse_date = lambda val : pd.datetime.strptime(val, '%y%m%d%H')"
   ]
  },
  {
   "cell_type": "code",
   "execution_count": 3,
   "metadata": {},
   "outputs": [],
   "source": [
    "#read in data (without specifying data type)\n",
    "df = pd.read_csv('ClickThrough_ReducedTrainingSet.csv', parse_dates = ['hour'],\n",
    "                        date_parser = parse_date)"
   ]
  },
  {
   "cell_type": "code",
   "execution_count": 5,
   "metadata": {},
   "outputs": [],
   "source": [
    "#specify data types before reading in data to save space\n",
    "data_types = {\n",
    "    'id': np.uint16,\n",
    "    'hour': np.str,\n",
    "    'click': np.uint16,\n",
    "    'C1': np.uint16,\n",
    "    'banner_pos': np.uint16,\n",
    "    'site_id': np.object,\n",
    "    'site_domain': np.object,\n",
    "    'site_category': np.object,\n",
    "    'app_id': np.object,\n",
    "    'app_domain': np.object,\n",
    "    'app_category': np.object,\n",
    "    'device_id': np.object,\n",
    "    'device_ip': np.object,\n",
    "    'device_model': np.object,\n",
    "    'device_type': np.uint16,\n",
    "    'device_conn_type': np.uint16,\n",
    "    'C14': np.uint16,\n",
    "    'C15': np.uint16,\n",
    "    'C16': np.uint16,\n",
    "    'C17': np.uint16,\n",
    "    'C18': np.uint16,\n",
    "    'C19': np.uint16,\n",
    "    'C20': np.uint16,\n",
    "    'C21': np.uint16\n",
    "}\n",
    "\n",
    "#load data and specify that the hour column should be in datetime-format\n",
    "df = pd.read_csv('ClickThrough_ReducedTrainingSet.csv', parse_dates = ['hour'],\n",
    "                        date_parser = parse_date, \n",
    "                        dtype = data_types)"
   ]
  },
  {
   "cell_type": "code",
   "execution_count": 6,
   "metadata": {},
   "outputs": [],
   "source": [
    "#extract time-related features into separate columns\n",
    "df['hour_day'] = df.hour.apply(lambda x: x.hour).astype(np.uint16)\n",
    "df['day_of_week'] = df.hour.apply(lambda val: val.dayofweek).astype(np.uint16)"
   ]
  },
  {
   "cell_type": "code",
   "execution_count": 7,
   "metadata": {},
   "outputs": [
    {
     "data": {
      "text/html": [
       "<div>\n",
       "<style scoped>\n",
       "    .dataframe tbody tr th:only-of-type {\n",
       "        vertical-align: middle;\n",
       "    }\n",
       "\n",
       "    .dataframe tbody tr th {\n",
       "        vertical-align: top;\n",
       "    }\n",
       "\n",
       "    .dataframe thead th {\n",
       "        text-align: right;\n",
       "    }\n",
       "</style>\n",
       "<table border=\"1\" class=\"dataframe\">\n",
       "  <thead>\n",
       "    <tr style=\"text-align: right;\">\n",
       "      <th></th>\n",
       "      <th>id</th>\n",
       "      <th>click</th>\n",
       "      <th>hour</th>\n",
       "      <th>C1</th>\n",
       "      <th>banner_pos</th>\n",
       "      <th>site_id</th>\n",
       "      <th>site_domain</th>\n",
       "      <th>site_category</th>\n",
       "      <th>app_id</th>\n",
       "      <th>app_domain</th>\n",
       "      <th>...</th>\n",
       "      <th>C14</th>\n",
       "      <th>C15</th>\n",
       "      <th>C16</th>\n",
       "      <th>C17</th>\n",
       "      <th>C18</th>\n",
       "      <th>C19</th>\n",
       "      <th>C20</th>\n",
       "      <th>C21</th>\n",
       "      <th>hour_day</th>\n",
       "      <th>day_of_week</th>\n",
       "    </tr>\n",
       "  </thead>\n",
       "  <tbody>\n",
       "    <tr>\n",
       "      <th>0</th>\n",
       "      <td>14641</td>\n",
       "      <td>0</td>\n",
       "      <td>2014-10-23 04:00:00</td>\n",
       "      <td>1005</td>\n",
       "      <td>1</td>\n",
       "      <td>e4d8dd7b</td>\n",
       "      <td>a17bde68</td>\n",
       "      <td>3e814130</td>\n",
       "      <td>ecad2386</td>\n",
       "      <td>7801e8d9</td>\n",
       "      <td>...</td>\n",
       "      <td>16208</td>\n",
       "      <td>320</td>\n",
       "      <td>50</td>\n",
       "      <td>1800</td>\n",
       "      <td>3</td>\n",
       "      <td>167</td>\n",
       "      <td>34541</td>\n",
       "      <td>23</td>\n",
       "      <td>4</td>\n",
       "      <td>3</td>\n",
       "    </tr>\n",
       "    <tr>\n",
       "      <th>1</th>\n",
       "      <td>35866</td>\n",
       "      <td>1</td>\n",
       "      <td>2014-10-23 04:00:00</td>\n",
       "      <td>1005</td>\n",
       "      <td>0</td>\n",
       "      <td>5bcf81a2</td>\n",
       "      <td>9d54950b</td>\n",
       "      <td>f028772b</td>\n",
       "      <td>ecad2386</td>\n",
       "      <td>7801e8d9</td>\n",
       "      <td>...</td>\n",
       "      <td>22116</td>\n",
       "      <td>320</td>\n",
       "      <td>50</td>\n",
       "      <td>2547</td>\n",
       "      <td>2</td>\n",
       "      <td>35</td>\n",
       "      <td>65535</td>\n",
       "      <td>13</td>\n",
       "      <td>4</td>\n",
       "      <td>3</td>\n",
       "    </tr>\n",
       "    <tr>\n",
       "      <th>2</th>\n",
       "      <td>10513</td>\n",
       "      <td>0</td>\n",
       "      <td>2014-10-23 04:00:00</td>\n",
       "      <td>1005</td>\n",
       "      <td>0</td>\n",
       "      <td>1fbe01fe</td>\n",
       "      <td>f3845767</td>\n",
       "      <td>28905ebd</td>\n",
       "      <td>ecad2386</td>\n",
       "      <td>7801e8d9</td>\n",
       "      <td>...</td>\n",
       "      <td>22102</td>\n",
       "      <td>320</td>\n",
       "      <td>50</td>\n",
       "      <td>2545</td>\n",
       "      <td>0</td>\n",
       "      <td>35</td>\n",
       "      <td>34548</td>\n",
       "      <td>221</td>\n",
       "      <td>4</td>\n",
       "      <td>3</td>\n",
       "    </tr>\n",
       "  </tbody>\n",
       "</table>\n",
       "<p>3 rows × 26 columns</p>\n",
       "</div>"
      ],
      "text/plain": [
       "      id  click                hour    C1  banner_pos   site_id site_domain  \\\n",
       "0  14641      0 2014-10-23 04:00:00  1005           1  e4d8dd7b    a17bde68   \n",
       "1  35866      1 2014-10-23 04:00:00  1005           0  5bcf81a2    9d54950b   \n",
       "2  10513      0 2014-10-23 04:00:00  1005           0  1fbe01fe    f3845767   \n",
       "\n",
       "  site_category    app_id app_domain  ...    C14  C15 C16   C17  C18  C19  \\\n",
       "0      3e814130  ecad2386   7801e8d9  ...  16208  320  50  1800    3  167   \n",
       "1      f028772b  ecad2386   7801e8d9  ...  22116  320  50  2547    2   35   \n",
       "2      28905ebd  ecad2386   7801e8d9  ...  22102  320  50  2545    0   35   \n",
       "\n",
       "     C20  C21  hour_day  day_of_week  \n",
       "0  34541   23         4            3  \n",
       "1  65535   13         4            3  \n",
       "2  34548  221         4            3  \n",
       "\n",
       "[3 rows x 26 columns]"
      ]
     },
     "execution_count": 7,
     "metadata": {},
     "output_type": "execute_result"
    }
   ],
   "source": [
    "df.head(3)"
   ]
  },
  {
   "cell_type": "markdown",
   "metadata": {},
   "source": [
    "# Preliminary EDA"
   ]
  },
  {
   "cell_type": "code",
   "execution_count": 6,
   "metadata": {},
   "outputs": [
    {
     "data": {
      "text/plain": [
       "Index(['id', 'click', 'hour', 'C1', 'banner_pos', 'site_id', 'site_domain',\n",
       "       'site_category', 'app_id', 'app_domain', 'app_category', 'device_id',\n",
       "       'device_ip', 'device_model', 'device_type', 'device_conn_type', 'C14',\n",
       "       'C15', 'C16', 'C17', 'C18', 'C19', 'C20', 'C21', 'hour_day',\n",
       "       'day_of_week'],\n",
       "      dtype='object')"
      ]
     },
     "execution_count": 6,
     "metadata": {},
     "output_type": "execute_result"
    }
   ],
   "source": [
    "#look at column titles / features\n",
    "df.columns"
   ]
  },
  {
   "cell_type": "code",
   "execution_count": 7,
   "metadata": {},
   "outputs": [
    {
     "data": {
      "text/plain": [
       "(400000, 26)"
      ]
     },
     "execution_count": 7,
     "metadata": {},
     "output_type": "execute_result"
    }
   ],
   "source": [
    "#check number of rows and columns \n",
    "df.shape"
   ]
  },
  {
   "cell_type": "code",
   "execution_count": 8,
   "metadata": {},
   "outputs": [
    {
     "data": {
      "text/html": [
       "<div>\n",
       "<style scoped>\n",
       "    .dataframe tbody tr th:only-of-type {\n",
       "        vertical-align: middle;\n",
       "    }\n",
       "\n",
       "    .dataframe tbody tr th {\n",
       "        vertical-align: top;\n",
       "    }\n",
       "\n",
       "    .dataframe thead th {\n",
       "        text-align: right;\n",
       "    }\n",
       "</style>\n",
       "<table border=\"1\" class=\"dataframe\">\n",
       "  <thead>\n",
       "    <tr style=\"text-align: right;\">\n",
       "      <th></th>\n",
       "      <th>id</th>\n",
       "      <th>click</th>\n",
       "      <th>C1</th>\n",
       "      <th>banner_pos</th>\n",
       "      <th>device_type</th>\n",
       "      <th>device_conn_type</th>\n",
       "      <th>C14</th>\n",
       "      <th>C15</th>\n",
       "      <th>C16</th>\n",
       "      <th>C17</th>\n",
       "      <th>C18</th>\n",
       "      <th>C19</th>\n",
       "      <th>C20</th>\n",
       "      <th>C21</th>\n",
       "      <th>hour_day</th>\n",
       "      <th>day_of_week</th>\n",
       "    </tr>\n",
       "  </thead>\n",
       "  <tbody>\n",
       "    <tr>\n",
       "      <th>count</th>\n",
       "      <td>400000.000000</td>\n",
       "      <td>400000.000000</td>\n",
       "      <td>400000.000000</td>\n",
       "      <td>400000.000000</td>\n",
       "      <td>400000.000000</td>\n",
       "      <td>400000.000000</td>\n",
       "      <td>400000.000000</td>\n",
       "      <td>400000.000000</td>\n",
       "      <td>400000.000000</td>\n",
       "      <td>400000.000000</td>\n",
       "      <td>400000.000000</td>\n",
       "      <td>400000.000000</td>\n",
       "      <td>400000.000000</td>\n",
       "      <td>400000.000000</td>\n",
       "      <td>400000.000000</td>\n",
       "      <td>400000.000000</td>\n",
       "    </tr>\n",
       "    <tr>\n",
       "      <th>mean</th>\n",
       "      <td>32763.779608</td>\n",
       "      <td>0.169805</td>\n",
       "      <td>1004.966760</td>\n",
       "      <td>0.288005</td>\n",
       "      <td>1.014957</td>\n",
       "      <td>0.329332</td>\n",
       "      <td>18842.328405</td>\n",
       "      <td>318.908190</td>\n",
       "      <td>60.108290</td>\n",
       "      <td>2112.355170</td>\n",
       "      <td>1.433195</td>\n",
       "      <td>227.530780</td>\n",
       "      <td>49081.511717</td>\n",
       "      <td>83.385338</td>\n",
       "      <td>11.283368</td>\n",
       "      <td>2.596005</td>\n",
       "    </tr>\n",
       "    <tr>\n",
       "      <th>std</th>\n",
       "      <td>18924.819596</td>\n",
       "      <td>0.375462</td>\n",
       "      <td>1.100556</td>\n",
       "      <td>0.506279</td>\n",
       "      <td>0.529622</td>\n",
       "      <td>0.853410</td>\n",
       "      <td>4958.948409</td>\n",
       "      <td>21.569824</td>\n",
       "      <td>47.434049</td>\n",
       "      <td>609.596379</td>\n",
       "      <td>1.326747</td>\n",
       "      <td>351.450651</td>\n",
       "      <td>15448.754485</td>\n",
       "      <td>70.293203</td>\n",
       "      <td>5.949541</td>\n",
       "      <td>1.725888</td>\n",
       "    </tr>\n",
       "    <tr>\n",
       "      <th>min</th>\n",
       "      <td>0.000000</td>\n",
       "      <td>0.000000</td>\n",
       "      <td>1001.000000</td>\n",
       "      <td>0.000000</td>\n",
       "      <td>0.000000</td>\n",
       "      <td>0.000000</td>\n",
       "      <td>375.000000</td>\n",
       "      <td>120.000000</td>\n",
       "      <td>20.000000</td>\n",
       "      <td>112.000000</td>\n",
       "      <td>0.000000</td>\n",
       "      <td>33.000000</td>\n",
       "      <td>34464.000000</td>\n",
       "      <td>1.000000</td>\n",
       "      <td>0.000000</td>\n",
       "      <td>0.000000</td>\n",
       "    </tr>\n",
       "    <tr>\n",
       "      <th>25%</th>\n",
       "      <td>16372.000000</td>\n",
       "      <td>0.000000</td>\n",
       "      <td>1005.000000</td>\n",
       "      <td>0.000000</td>\n",
       "      <td>1.000000</td>\n",
       "      <td>0.000000</td>\n",
       "      <td>16920.000000</td>\n",
       "      <td>320.000000</td>\n",
       "      <td>50.000000</td>\n",
       "      <td>1863.000000</td>\n",
       "      <td>0.000000</td>\n",
       "      <td>35.000000</td>\n",
       "      <td>34548.000000</td>\n",
       "      <td>23.000000</td>\n",
       "      <td>7.000000</td>\n",
       "      <td>1.000000</td>\n",
       "    </tr>\n",
       "    <tr>\n",
       "      <th>50%</th>\n",
       "      <td>32751.500000</td>\n",
       "      <td>0.000000</td>\n",
       "      <td>1005.000000</td>\n",
       "      <td>0.000000</td>\n",
       "      <td>1.000000</td>\n",
       "      <td>0.000000</td>\n",
       "      <td>20346.000000</td>\n",
       "      <td>320.000000</td>\n",
       "      <td>50.000000</td>\n",
       "      <td>2323.000000</td>\n",
       "      <td>2.000000</td>\n",
       "      <td>39.000000</td>\n",
       "      <td>34657.000000</td>\n",
       "      <td>61.000000</td>\n",
       "      <td>11.000000</td>\n",
       "      <td>2.000000</td>\n",
       "    </tr>\n",
       "    <tr>\n",
       "      <th>75%</th>\n",
       "      <td>49139.000000</td>\n",
       "      <td>0.000000</td>\n",
       "      <td>1005.000000</td>\n",
       "      <td>1.000000</td>\n",
       "      <td>1.000000</td>\n",
       "      <td>0.000000</td>\n",
       "      <td>21894.000000</td>\n",
       "      <td>320.000000</td>\n",
       "      <td>50.000000</td>\n",
       "      <td>2526.000000</td>\n",
       "      <td>3.000000</td>\n",
       "      <td>171.000000</td>\n",
       "      <td>65535.000000</td>\n",
       "      <td>101.000000</td>\n",
       "      <td>16.000000</td>\n",
       "      <td>4.000000</td>\n",
       "    </tr>\n",
       "    <tr>\n",
       "      <th>max</th>\n",
       "      <td>65535.000000</td>\n",
       "      <td>1.000000</td>\n",
       "      <td>1012.000000</td>\n",
       "      <td>7.000000</td>\n",
       "      <td>5.000000</td>\n",
       "      <td>5.000000</td>\n",
       "      <td>24049.000000</td>\n",
       "      <td>1024.000000</td>\n",
       "      <td>1024.000000</td>\n",
       "      <td>2758.000000</td>\n",
       "      <td>3.000000</td>\n",
       "      <td>1839.000000</td>\n",
       "      <td>65535.000000</td>\n",
       "      <td>255.000000</td>\n",
       "      <td>23.000000</td>\n",
       "      <td>6.000000</td>\n",
       "    </tr>\n",
       "  </tbody>\n",
       "</table>\n",
       "</div>"
      ],
      "text/plain": [
       "                  id          click             C1     banner_pos  \\\n",
       "count  400000.000000  400000.000000  400000.000000  400000.000000   \n",
       "mean    32763.779608       0.169805    1004.966760       0.288005   \n",
       "std     18924.819596       0.375462       1.100556       0.506279   \n",
       "min         0.000000       0.000000    1001.000000       0.000000   \n",
       "25%     16372.000000       0.000000    1005.000000       0.000000   \n",
       "50%     32751.500000       0.000000    1005.000000       0.000000   \n",
       "75%     49139.000000       0.000000    1005.000000       1.000000   \n",
       "max     65535.000000       1.000000    1012.000000       7.000000   \n",
       "\n",
       "         device_type  device_conn_type            C14            C15  \\\n",
       "count  400000.000000     400000.000000  400000.000000  400000.000000   \n",
       "mean        1.014957          0.329332   18842.328405     318.908190   \n",
       "std         0.529622          0.853410    4958.948409      21.569824   \n",
       "min         0.000000          0.000000     375.000000     120.000000   \n",
       "25%         1.000000          0.000000   16920.000000     320.000000   \n",
       "50%         1.000000          0.000000   20346.000000     320.000000   \n",
       "75%         1.000000          0.000000   21894.000000     320.000000   \n",
       "max         5.000000          5.000000   24049.000000    1024.000000   \n",
       "\n",
       "                 C16            C17            C18            C19  \\\n",
       "count  400000.000000  400000.000000  400000.000000  400000.000000   \n",
       "mean       60.108290    2112.355170       1.433195     227.530780   \n",
       "std        47.434049     609.596379       1.326747     351.450651   \n",
       "min        20.000000     112.000000       0.000000      33.000000   \n",
       "25%        50.000000    1863.000000       0.000000      35.000000   \n",
       "50%        50.000000    2323.000000       2.000000      39.000000   \n",
       "75%        50.000000    2526.000000       3.000000     171.000000   \n",
       "max      1024.000000    2758.000000       3.000000    1839.000000   \n",
       "\n",
       "                 C20            C21       hour_day    day_of_week  \n",
       "count  400000.000000  400000.000000  400000.000000  400000.000000  \n",
       "mean    49081.511717      83.385338      11.283368       2.596005  \n",
       "std     15448.754485      70.293203       5.949541       1.725888  \n",
       "min     34464.000000       1.000000       0.000000       0.000000  \n",
       "25%     34548.000000      23.000000       7.000000       1.000000  \n",
       "50%     34657.000000      61.000000      11.000000       2.000000  \n",
       "75%     65535.000000     101.000000      16.000000       4.000000  \n",
       "max     65535.000000     255.000000      23.000000       6.000000  "
      ]
     },
     "execution_count": 8,
     "metadata": {},
     "output_type": "execute_result"
    }
   ],
   "source": [
    "#get stats on numerical fields\n",
    "df.describe()"
   ]
  },
  {
   "cell_type": "code",
   "execution_count": 9,
   "metadata": {},
   "outputs": [
    {
     "name": "stdout",
     "output_type": "stream",
     "text": [
      "<class 'pandas.core.frame.DataFrame'>\n",
      "RangeIndex: 400000 entries, 0 to 399999\n",
      "Data columns (total 26 columns):\n",
      "id                  400000 non-null uint16\n",
      "click               400000 non-null uint16\n",
      "hour                400000 non-null datetime64[ns]\n",
      "C1                  400000 non-null uint16\n",
      "banner_pos          400000 non-null uint16\n",
      "site_id             400000 non-null object\n",
      "site_domain         400000 non-null object\n",
      "site_category       400000 non-null object\n",
      "app_id              400000 non-null object\n",
      "app_domain          400000 non-null object\n",
      "app_category        400000 non-null object\n",
      "device_id           400000 non-null object\n",
      "device_ip           400000 non-null object\n",
      "device_model        400000 non-null object\n",
      "device_type         400000 non-null uint16\n",
      "device_conn_type    400000 non-null uint16\n",
      "C14                 400000 non-null uint16\n",
      "C15                 400000 non-null uint16\n",
      "C16                 400000 non-null uint16\n",
      "C17                 400000 non-null uint16\n",
      "C18                 400000 non-null uint16\n",
      "C19                 400000 non-null uint16\n",
      "C20                 400000 non-null uint16\n",
      "C21                 400000 non-null uint16\n",
      "hour_day            400000 non-null uint16\n",
      "day_of_week         400000 non-null uint16\n",
      "dtypes: datetime64[ns](1), object(9), uint16(16)\n",
      "memory usage: 42.7+ MB\n"
     ]
    }
   ],
   "source": [
    "#check for missing values & types\n",
    "df.info()"
   ]
  },
  {
   "cell_type": "code",
   "execution_count": 10,
   "metadata": {},
   "outputs": [
    {
     "data": {
      "text/plain": [
       "0"
      ]
     },
     "execution_count": 10,
     "metadata": {},
     "output_type": "execute_result"
    }
   ],
   "source": [
    "#check for null values\n",
    "df.isnull().sum().max()"
   ]
  },
  {
   "cell_type": "code",
   "execution_count": 12,
   "metadata": {},
   "outputs": [
    {
     "data": {
      "text/plain": [
       "id                   65385\n",
       "click                    2\n",
       "hour                   240\n",
       "C1                       7\n",
       "banner_pos               7\n",
       "site_id               2155\n",
       "site_domain           2154\n",
       "site_category           22\n",
       "app_id                2285\n",
       "app_domain             141\n",
       "app_category            24\n",
       "device_id            64718\n",
       "device_ip           260683\n",
       "device_model          4390\n",
       "device_type              4\n",
       "device_conn_type         4\n",
       "C14                   2083\n",
       "C15                      8\n",
       "C16                      9\n",
       "C17                    418\n",
       "C18                      4\n",
       "C19                     66\n",
       "C20                    160\n",
       "C21                     60\n",
       "hour_day                24\n",
       "day_of_week              7\n",
       "dtype: int64"
      ]
     },
     "execution_count": 12,
     "metadata": {},
     "output_type": "execute_result"
    }
   ],
   "source": [
    "#check number of unique values in each column\n",
    "df.nunique()"
   ]
  },
  {
   "cell_type": "markdown",
   "metadata": {},
   "source": [
    "# More detailed EDA"
   ]
  },
  {
   "cell_type": "markdown",
   "metadata": {},
   "source": [
    "## Target Variable: Clicks"
   ]
  },
  {
   "cell_type": "code",
   "execution_count": 11,
   "metadata": {},
   "outputs": [
    {
     "name": "stdout",
     "output_type": "stream",
     "text": [
      "0    332078\n",
      "1     67922\n",
      "Name: click, dtype: int64\n"
     ]
    }
   ],
   "source": [
    "#count how many are 0/1 in target\n",
    "count_class = df['click'].value_counts()\n",
    "print(count_class)"
   ]
  },
  {
   "cell_type": "code",
   "execution_count": 12,
   "metadata": {},
   "outputs": [
    {
     "data": {
      "text/plain": [
       "<matplotlib.axes._subplots.AxesSubplot at 0x1a2cbbfd30>"
      ]
     },
     "execution_count": 12,
     "metadata": {},
     "output_type": "execute_result"
    },
    {
     "data": {
      "image/png": "[encoded data removed]",
      "text/plain": [
       "<Figure size 432x288 with 1 Axes>"
      ]
     },
     "metadata": {},
     "output_type": "display_data"
    }
   ],
   "source": [
    "#plot count\n",
    "plt.title('Number of clicks (1) versus non-clicks (0)',y=1,size=14) \n",
    "plt.ylabel('Count', size=14)\n",
    "plt.xlabel('Clicks versus non-clicks', size=14)\n",
    "sns.countplot(x='click',data=df, palette='hls')"
   ]
  },
  {
   "cell_type": "code",
   "execution_count": 13,
   "metadata": {},
   "outputs": [
    {
     "name": "stdout",
     "output_type": "stream",
     "text": [
      "Clicks makes up  83.02 % of the data\n",
      "Non-clicks makes up 16.98 % of the data\n"
     ]
    }
   ],
   "source": [
    "#find percentage of clicks/non-clicks\n",
    "print('Clicks makes up ', round(df['click'].value_counts()[0]/len(df) * 100,2), '% of the data')\n",
    "print('Non-clicks makes up', round(df['click'].value_counts()[1]/len(df) * 100,2), '% of the data')"
   ]
  },
  {
   "cell_type": "markdown",
   "metadata": {},
   "source": [
    "## Feature: Device Type"
   ]
  },
  {
   "cell_type": "code",
   "execution_count": 14,
   "metadata": {},
   "outputs": [
    {
     "data": {
      "text/plain": [
       "<matplotlib.axes._subplots.AxesSubplot at 0x1155cc6d8>"
      ]
     },
     "execution_count": 14,
     "metadata": {},
     "output_type": "execute_result"
    },
    {
     "data": {
      "image/png": "[encoded data removed]",
      "text/plain": [
       "<Figure size 432x288 with 1 Axes>"
      ]
     },
     "metadata": {},
     "output_type": "display_data"
    }
   ],
   "source": [
    "#check distribution of clicks across device types\n",
    "plt.title('Clicks per device type',y=1,size=14) \n",
    "plt.ylabel('Count', size=14)\n",
    "plt.xlabel('Device type', size=14)\n",
    "sns.countplot(x='device_type', data = df, palette='hls')"
   ]
  },
  {
   "cell_type": "code",
   "execution_count": 15,
   "metadata": {},
   "outputs": [
    {
     "data": {
      "text/plain": [
       "1    368719\n",
       "0     22289\n",
       "4      7696\n",
       "5      1296\n",
       "Name: device_type, dtype: int64"
      ]
     },
     "execution_count": 15,
     "metadata": {},
     "output_type": "execute_result"
    }
   ],
   "source": [
    "df.loc[:,'device_type'].value_counts()"
   ]
  },
  {
   "cell_type": "code",
   "execution_count": 16,
   "metadata": {},
   "outputs": [
    {
     "data": {
      "text/html": [
       "<div>\n",
       "<style scoped>\n",
       "    .dataframe tbody tr th:only-of-type {\n",
       "        vertical-align: middle;\n",
       "    }\n",
       "\n",
       "    .dataframe tbody tr th {\n",
       "        vertical-align: top;\n",
       "    }\n",
       "\n",
       "    .dataframe thead th {\n",
       "        text-align: right;\n",
       "    }\n",
       "</style>\n",
       "<table border=\"1\" class=\"dataframe\">\n",
       "  <thead>\n",
       "    <tr style=\"text-align: right;\">\n",
       "      <th>click</th>\n",
       "      <th>0</th>\n",
       "      <th>1</th>\n",
       "    </tr>\n",
       "    <tr>\n",
       "      <th>device_type</th>\n",
       "      <th></th>\n",
       "      <th></th>\n",
       "    </tr>\n",
       "  </thead>\n",
       "  <tbody>\n",
       "    <tr>\n",
       "      <th>0</th>\n",
       "      <td>17536</td>\n",
       "      <td>4753</td>\n",
       "    </tr>\n",
       "    <tr>\n",
       "      <th>1</th>\n",
       "      <td>306423</td>\n",
       "      <td>62296</td>\n",
       "    </tr>\n",
       "    <tr>\n",
       "      <th>4</th>\n",
       "      <td>6948</td>\n",
       "      <td>748</td>\n",
       "    </tr>\n",
       "    <tr>\n",
       "      <th>5</th>\n",
       "      <td>1171</td>\n",
       "      <td>125</td>\n",
       "    </tr>\n",
       "  </tbody>\n",
       "</table>\n",
       "</div>"
      ],
      "text/plain": [
       "click             0      1\n",
       "device_type               \n",
       "0             17536   4753\n",
       "1            306423  62296\n",
       "4              6948    748\n",
       "5              1171    125"
      ]
     },
     "execution_count": 16,
     "metadata": {},
     "output_type": "execute_result"
    }
   ],
   "source": [
    "#get and plot clicks vs non-clicks per device type\n",
    "device_type_count = pd.crosstab(index=df.device_type, columns=df.click)\n",
    "device_type_count"
   ]
  },
  {
   "cell_type": "code",
   "execution_count": 17,
   "metadata": {},
   "outputs": [
    {
     "data": {
      "text/plain": [
       "<matplotlib.axes._subplots.AxesSubplot at 0x1a28742400>"
      ]
     },
     "execution_count": 17,
     "metadata": {},
     "output_type": "execute_result"
    },
    {
     "data": {
      "image/png": "[encoded data removed]",
      "text/plain": [
       "<Figure size 504x504 with 1 Axes>"
      ]
     },
     "metadata": {},
     "output_type": "display_data"
    }
   ],
   "source": [
    "device_type_count.plot(kind='bar', figsize= (7,7), stacked=False, color=[\"lightblue\",\"lightpink\"])"
   ]
  },
  {
   "cell_type": "markdown",
   "metadata": {},
   "source": [
    "## Feature: Cite Category"
   ]
  },
  {
   "cell_type": "code",
   "execution_count": 19,
   "metadata": {},
   "outputs": [
    {
     "data": {
      "image/png": "[encoded data removed]",
      "text/plain": [
       "<Figure size 432x288 with 1 Axes>"
      ]
     },
     "metadata": {},
     "output_type": "display_data"
    }
   ],
   "source": [
    "#check distribution of clicks across cite categories\n",
    "ax = sns.countplot(x='site_category', data=df, palette='hls', order = df['site_category'].value_counts().index)\n",
    "ax.set_xticklabels(ax.get_xticklabels(), rotation=40, ha=\"right\")\n",
    "plt.tight_layout()\n",
    "plt.show()"
   ]
  },
  {
   "cell_type": "code",
   "execution_count": 20,
   "metadata": {},
   "outputs": [],
   "source": [
    "#get and plot clicks vs non-clicks per cite category\n",
    "site_category_count = pd.crosstab(index=df.site_category, columns=df.click)"
   ]
  },
  {
   "cell_type": "code",
   "execution_count": 21,
   "metadata": {},
   "outputs": [
    {
     "data": {
      "text/plain": [
       "<matplotlib.axes._subplots.AxesSubplot at 0x1a2951ea20>"
      ]
     },
     "execution_count": 21,
     "metadata": {},
     "output_type": "execute_result"
    },
    {
     "data": {
      "image/png": "[encoded data removed]",
      "text/plain": [
       "<Figure size 720x360 with 1 Axes>"
      ]
     },
     "metadata": {},
     "output_type": "display_data"
    }
   ],
   "source": [
    "site_category_count.plot(kind='bar', figsize= (10,5), stacked=False)"
   ]
  },
  {
   "cell_type": "markdown",
   "metadata": {},
   "source": [
    "## Feature: App Category"
   ]
  },
  {
   "cell_type": "code",
   "execution_count": 22,
   "metadata": {},
   "outputs": [
    {
     "data": {
      "image/png": "[encoded data removed]",
      "text/plain": [
       "<Figure size 432x288 with 1 Axes>"
      ]
     },
     "metadata": {},
     "output_type": "display_data"
    }
   ],
   "source": [
    "#check distribution of clicks across app category (plot in descending order)\n",
    "ax = sns.countplot(x='app_category', data=df, palette='hls', order = df['app_category'].value_counts().index)\n",
    "ax.set_xticklabels(ax.get_xticklabels(), rotation=40, ha=\"right\")\n",
    "plt.tight_layout()\n",
    "plt.show()"
   ]
  },
  {
   "cell_type": "code",
   "execution_count": 23,
   "metadata": {},
   "outputs": [],
   "source": [
    "#get and plot clicks vs non-clicks per app category\n",
    "app_category_count = pd.crosstab(index=df.app_category, columns=df.click)"
   ]
  },
  {
   "cell_type": "code",
   "execution_count": 24,
   "metadata": {},
   "outputs": [
    {
     "data": {
      "text/plain": [
       "<matplotlib.axes._subplots.AxesSubplot at 0x1a2910e630>"
      ]
     },
     "execution_count": 24,
     "metadata": {},
     "output_type": "execute_result"
    },
    {
     "data": {
      "image/png": "[encoded data removed]",
      "text/plain": [
       "<Figure size 720x360 with 1 Axes>"
      ]
     },
     "metadata": {},
     "output_type": "display_data"
    }
   ],
   "source": [
    "app_category_count.plot(kind='bar', figsize= (10,5), stacked=False)"
   ]
  },
  {
   "cell_type": "markdown",
   "metadata": {},
   "source": [
    "## Feature: Banner position"
   ]
  },
  {
   "cell_type": "code",
   "execution_count": 25,
   "metadata": {},
   "outputs": [
    {
     "data": {
      "image/png": "[encoded data removed]",
      "text/plain": [
       "<Figure size 432x288 with 1 Axes>"
      ]
     },
     "metadata": {},
     "output_type": "display_data"
    }
   ],
   "source": [
    "#check distribution of clicks depending on banner position\n",
    "ax = sns.countplot(x='banner_pos', data=df, palette='hls', order = df['banner_pos'].value_counts().index)\n",
    "ax.set_xticklabels(ax.get_xticklabels(), rotation=40, ha=\"right\")\n",
    "plt.tight_layout()\n",
    "plt.show()"
   ]
  },
  {
   "cell_type": "code",
   "execution_count": 26,
   "metadata": {},
   "outputs": [],
   "source": [
    "#get and plot clicks vs non-clicks per banner position\n",
    "banner_pos_count = pd.crosstab(index=df.banner_pos, columns=df.click)"
   ]
  },
  {
   "cell_type": "code",
   "execution_count": 27,
   "metadata": {},
   "outputs": [
    {
     "data": {
      "text/plain": [
       "<matplotlib.axes._subplots.AxesSubplot at 0x1a29806ac8>"
      ]
     },
     "execution_count": 27,
     "metadata": {},
     "output_type": "execute_result"
    },
    {
     "data": {
      "image/png": "[encoded data removed]",
      "text/plain": [
       "<Figure size 720x360 with 1 Axes>"
      ]
     },
     "metadata": {},
     "output_type": "display_data"
    }
   ],
   "source": [
    "banner_pos_count.plot(kind='bar', figsize= (10,5), stacked=False)"
   ]
  },
  {
   "cell_type": "code",
   "execution_count": 26,
   "metadata": {},
   "outputs": [
    {
     "data": {
      "text/plain": [
       "Text(0, 0.5, 'Click through rate')"
      ]
     },
     "execution_count": 26,
     "metadata": {},
     "output_type": "execute_result"
    },
    {
     "data": {
      "image/png": "[encoded data removed]",
      "text/plain": [
       "<Figure size 864x432 with 1 Axes>"
      ]
     },
     "metadata": {},
     "output_type": "display_data"
    }
   ],
   "source": [
    "#plot CTR for banner position\n",
    "df_click = df[df['click'] == 1]\n",
    "df_banner = df[['banner_pos','click']].groupby(['banner_pos']).count().reset_index()\n",
    "df_banner = df_banner.rename(columns={'click': 'impressions'})\n",
    "df_banner['clicks'] = df_click[['banner_pos','click']].groupby(['banner_pos']).count().reset_index()['click']\n",
    "df_banner['CTR'] = df_banner['clicks']/df_banner['impressions']*100\n",
    "sort_banners = df_banner.sort_values(by='CTR',ascending=False)['banner_pos'].tolist()\n",
    "plt.figure(figsize=(12,6))\n",
    "sns.barplot(y='CTR', x='banner_pos', data=df_banner, order=sort_banners, color = 'lightblue')\n",
    "plt.title('CTR by banner position')\n",
    "plt.xlabel('Banner position')\n",
    "plt.ylabel('Click through rate')"
   ]
  },
  {
   "cell_type": "markdown",
   "metadata": {},
   "source": [
    "## Correlations"
   ]
  },
  {
   "cell_type": "code",
   "execution_count": 28,
   "metadata": {},
   "outputs": [
    {
     "data": {
      "text/plain": [
       "<matplotlib.axes._subplots.AxesSubplot at 0x1a29e6d4e0>"
      ]
     },
     "execution_count": 28,
     "metadata": {},
     "output_type": "execute_result"
    },
    {
     "data": {
      "image/png": "[encoded data removed]",
      "text/plain": [
       "<Figure size 576x576 with 2 Axes>"
      ]
     },
     "metadata": {},
     "output_type": "display_data"
    }
   ],
   "source": [
    "#plot correlation between target variable and features\n",
    "correlation = df.corr()\n",
    "f , ax = plt.subplots(figsize = (8,8)) \n",
    "plt.title('Correlation Heatmap',y=1,size=16) \n",
    "sns.heatmap(correlation, square = True, vmax=0.6)"
   ]
  },
  {
   "cell_type": "code",
   "execution_count": 31,
   "metadata": {},
   "outputs": [
    {
     "name": "stdout",
     "output_type": "stream",
     "text": [
      "Sorted list of values which are notably correlated with Clicks:\n",
      "click               1.000000\n",
      "C16                 0.127568\n",
      "C20                 0.056096\n",
      "banner_pos          0.026581\n",
      "C18                 0.020243\n",
      "day_of_week         0.015957\n",
      "id                  0.000864\n",
      "hour_day           -0.002237\n",
      "C19                -0.002522\n",
      "C15                -0.031450\n",
      "C1                 -0.036841\n",
      "device_type        -0.038030\n",
      "C17                -0.054970\n",
      "C14                -0.059030\n",
      "C21                -0.069117\n",
      "device_conn_type   -0.082344\n",
      "Name: click, dtype: float64\n"
     ]
    }
   ],
   "source": [
    "#want to find the features which have the strongest correlation with clicks\n",
    "correlation = df.corr()['click'][:] \n",
    "\n",
    "#make a list of the features which have a correlation with absolute value larger than 0.05 to list out\n",
    "features_list = correlation[abs(correlation) > 0].sort_values(ascending=False)\n",
    "print(\"Sorted list of values which are notably correlated with Clicks:\\n{}\".format(features_list))"
   ]
  },
  {
   "cell_type": "markdown",
   "metadata": {},
   "source": [
    "## Feature: Time related features - time of day / day of week"
   ]
  },
  {
   "cell_type": "code",
   "execution_count": 34,
   "metadata": {},
   "outputs": [
    {
     "data": {
      "text/plain": [
       "Text(0.5, 1.0, 'Clicks over time')"
      ]
     },
     "execution_count": 34,
     "metadata": {},
     "output_type": "execute_result"
    },
    {
     "data": {
      "image/png": "[encoded data removed]",
      "text/plain": [
       "<Figure size 720x360 with 1 Axes>"
      ]
     },
     "metadata": {},
     "output_type": "display_data"
    }
   ],
   "source": [
    "#plot number of clicks across the time period in the dataset\n",
    "df_click = df[df.click==1]\n",
    "temp_click = df_click.groupby('hour').agg({'click' : 'sum'})\n",
    "temp_click.unstack().plot(figsize=(10,5))\n",
    "plt.ylabel('#Clicks')\n",
    "plt.xlabel('Hour')\n",
    "plt.title('Clicks over time')"
   ]
  },
  {
   "cell_type": "code",
   "execution_count": 35,
   "metadata": {},
   "outputs": [
    {
     "data": {
      "text/plain": [
       "Text(0, 0.5, 'Count')"
      ]
     },
     "execution_count": 35,
     "metadata": {},
     "output_type": "execute_result"
    },
    {
     "data": {
      "image/png": "[encoded data removed]",
      "text/plain": [
       "<Figure size 864x432 with 1 Axes>"
      ]
     },
     "metadata": {},
     "output_type": "display_data"
    }
   ],
   "source": [
    "#plot number of clicks per hour of day\n",
    "df.groupby('hour_day').agg({'click':'sum'}).plot(figsize=(12,6))\n",
    "plt.title('Clicks by hour of day')\n",
    "plt.xlabel('Hour of day')\n",
    "plt.ylabel('Count')"
   ]
  },
  {
   "cell_type": "code",
   "execution_count": 36,
   "metadata": {},
   "outputs": [
    {
     "data": {
      "text/plain": [
       "Text(0.5, 1.0, 'Clicks and non-clicks per hour')"
      ]
     },
     "execution_count": 36,
     "metadata": {},
     "output_type": "execute_result"
    },
    {
     "data": {
      "image/png": "[encoded data removed]",
      "text/plain": [
       "<Figure size 864x432 with 1 Axes>"
      ]
     },
     "metadata": {},
     "output_type": "display_data"
    }
   ],
   "source": [
    "# clicks versus non-clicks per hour\n",
    "df.groupby(['hour_day', 'click']).size().unstack().plot(kind='bar', title=\"Hour of Day\", figsize=(12,6))\n",
    "plt.ylabel('Count')\n",
    "plt.title('Clicks and non-clicks per hour')"
   ]
  },
  {
   "cell_type": "code",
   "execution_count": 37,
   "metadata": {},
   "outputs": [
    {
     "data": {
      "text/plain": [
       "Text(0.5, 1.0, 'CTR per hour')"
      ]
     },
     "execution_count": 37,
     "metadata": {},
     "output_type": "execute_result"
    },
    {
     "data": {
      "image/png": "[encoded data removed]",
      "text/plain": [
       "<Figure size 864x432 with 1 Axes>"
      ]
     },
     "metadata": {},
     "output_type": "display_data"
    }
   ],
   "source": [
    "# get click through rate per hour\n",
    "\n",
    "#create new dataframe which has CTR as one column\n",
    "df_hour = df[['hour_day','click']].groupby(['hour_day']).count().reset_index()\n",
    "df_hour = df_hour.rename(columns={'click': 'impressions'})\n",
    "df_hour['clicks'] = df_click[['hour_day','click']].groupby(['hour_day']).count().reset_index()['click']\n",
    "df_hour['CTR'] = df_hour['clicks']/df_hour['impressions']*100\n",
    "\n",
    "#plot\n",
    "plt.figure(figsize=(12,6))\n",
    "sns.barplot(y='CTR', x='hour_day', data=df_hour, color = 'lightblue')\n",
    "plt.title('CTR per hour')"
   ]
  },
  {
   "cell_type": "code",
   "execution_count": 38,
   "metadata": {},
   "outputs": [
    {
     "data": {
      "text/plain": [
       "Text(0.5, 1.0, 'Clicks by day of week')"
      ]
     },
     "execution_count": 38,
     "metadata": {},
     "output_type": "execute_result"
    },
    {
     "data": {
      "image/png": "[encoded data removed]",
      "text/plain": [
       "<Figure size 864x432 with 1 Axes>"
      ]
     },
     "metadata": {},
     "output_type": "display_data"
    }
   ],
   "source": [
    "#plot number of clicks depending on day of week\n",
    "df.groupby('day_of_week').agg({'click':'sum'}).plot(figsize=(12,6))\n",
    "plt.title('Clicks by day of week')"
   ]
  },
  {
   "cell_type": "code",
   "execution_count": 39,
   "metadata": {},
   "outputs": [
    {
     "data": {
      "text/plain": [
       "Text(0.5, 1.0, 'Day of week CTR')"
      ]
     },
     "execution_count": 39,
     "metadata": {},
     "output_type": "execute_result"
    },
    {
     "data": {
      "image/png": "[encoded data removed]",
      "text/plain": [
       "<Figure size 864x432 with 1 Axes>"
      ]
     },
     "metadata": {},
     "output_type": "display_data"
    }
   ],
   "source": [
    "#get CTR per weekday\n",
    "\n",
    "#create own dataframe CTR as column\n",
    "df_dayofweek = df[['day_of_week','click']].groupby(['day_of_week']).count().reset_index()\n",
    "df_dayofweek = df_dayofweek.rename(columns={'click': 'impressions'})\n",
    "df_dayofweek['clicks'] = df_click[['day_of_week','click']].groupby(['day_of_week']).count().reset_index()['click']\n",
    "df_dayofweek['CTR'] = df_dayofweek['clicks']/df_dayofweek['impressions']*100\n",
    "\n",
    "#plot\n",
    "plt.figure(figsize=(12,6))\n",
    "sns.barplot(y='CTR', x='day_of_week', data=df_dayofweek, color = 'lightblue')\n",
    "plt.title('Day of week CTR')"
   ]
  },
  {
   "cell_type": "markdown",
   "metadata": {},
   "source": [
    "# Drop columns"
   ]
  },
  {
   "cell_type": "code",
   "execution_count": 8,
   "metadata": {},
   "outputs": [
    {
     "data": {
      "text/plain": [
       "id                   65385\n",
       "click                    2\n",
       "hour                   240\n",
       "C1                       7\n",
       "banner_pos               7\n",
       "site_id               2155\n",
       "site_domain           2154\n",
       "site_category           22\n",
       "app_id                2285\n",
       "app_domain             141\n",
       "app_category            24\n",
       "device_id            64718\n",
       "device_ip           260683\n",
       "device_model          4390\n",
       "device_type              4\n",
       "device_conn_type         4\n",
       "C14                   2083\n",
       "C15                      8\n",
       "C16                      9\n",
       "C17                    418\n",
       "C18                      4\n",
       "C19                     66\n",
       "C20                    160\n",
       "C21                     60\n",
       "hour_day                24\n",
       "day_of_week              7\n",
       "dtype: int64"
      ]
     },
     "execution_count": 8,
     "metadata": {},
     "output_type": "execute_result"
    }
   ],
   "source": [
    "df.nunique()"
   ]
  },
  {
   "cell_type": "code",
   "execution_count": 9,
   "metadata": {},
   "outputs": [],
   "source": [
    "df.drop(['id','hour', 'C19', 'C18', 'C14', 'site_id', 'site_domain','app_id', 'device_id', \n",
    "        \"device_ip\", \"device_model\"], axis=1, inplace=True)"
   ]
  },
  {
   "cell_type": "code",
   "execution_count": 10,
   "metadata": {},
   "outputs": [
    {
     "name": "stdout",
     "output_type": "stream",
     "text": [
      "<class 'pandas.core.frame.DataFrame'>\n",
      "RangeIndex: 400000 entries, 0 to 399999\n",
      "Data columns (total 15 columns):\n",
      "click               400000 non-null uint16\n",
      "C1                  400000 non-null uint16\n",
      "banner_pos          400000 non-null uint16\n",
      "site_category       400000 non-null object\n",
      "app_domain          400000 non-null object\n",
      "app_category        400000 non-null object\n",
      "device_type         400000 non-null uint16\n",
      "device_conn_type    400000 non-null uint16\n",
      "C15                 400000 non-null uint16\n",
      "C16                 400000 non-null uint16\n",
      "C17                 400000 non-null uint16\n",
      "C20                 400000 non-null uint16\n",
      "C21                 400000 non-null uint16\n",
      "hour_day            400000 non-null uint16\n",
      "day_of_week         400000 non-null uint16\n",
      "dtypes: object(3), uint16(12)\n",
      "memory usage: 18.3+ MB\n"
     ]
    }
   ],
   "source": [
    "df.info()"
   ]
  },
  {
   "cell_type": "code",
   "execution_count": 11,
   "metadata": {},
   "outputs": [
    {
     "data": {
      "text/html": [
       "<div>\n",
       "<style scoped>\n",
       "    .dataframe tbody tr th:only-of-type {\n",
       "        vertical-align: middle;\n",
       "    }\n",
       "\n",
       "    .dataframe tbody tr th {\n",
       "        vertical-align: top;\n",
       "    }\n",
       "\n",
       "    .dataframe thead th {\n",
       "        text-align: right;\n",
       "    }\n",
       "</style>\n",
       "<table border=\"1\" class=\"dataframe\">\n",
       "  <thead>\n",
       "    <tr style=\"text-align: right;\">\n",
       "      <th></th>\n",
       "      <th>click</th>\n",
       "      <th>C1</th>\n",
       "      <th>banner_pos</th>\n",
       "      <th>site_category</th>\n",
       "      <th>app_domain</th>\n",
       "      <th>app_category</th>\n",
       "      <th>device_type</th>\n",
       "      <th>device_conn_type</th>\n",
       "      <th>C15</th>\n",
       "      <th>C16</th>\n",
       "      <th>C17</th>\n",
       "      <th>C20</th>\n",
       "      <th>C21</th>\n",
       "      <th>hour_day</th>\n",
       "      <th>day_of_week</th>\n",
       "    </tr>\n",
       "  </thead>\n",
       "  <tbody>\n",
       "    <tr>\n",
       "      <th>0</th>\n",
       "      <td>0</td>\n",
       "      <td>1005</td>\n",
       "      <td>1</td>\n",
       "      <td>3e814130</td>\n",
       "      <td>7801e8d9</td>\n",
       "      <td>07d7df22</td>\n",
       "      <td>1</td>\n",
       "      <td>0</td>\n",
       "      <td>320</td>\n",
       "      <td>50</td>\n",
       "      <td>1800</td>\n",
       "      <td>34541</td>\n",
       "      <td>23</td>\n",
       "      <td>4</td>\n",
       "      <td>3</td>\n",
       "    </tr>\n",
       "    <tr>\n",
       "      <th>1</th>\n",
       "      <td>1</td>\n",
       "      <td>1005</td>\n",
       "      <td>0</td>\n",
       "      <td>f028772b</td>\n",
       "      <td>7801e8d9</td>\n",
       "      <td>07d7df22</td>\n",
       "      <td>1</td>\n",
       "      <td>0</td>\n",
       "      <td>320</td>\n",
       "      <td>50</td>\n",
       "      <td>2547</td>\n",
       "      <td>65535</td>\n",
       "      <td>13</td>\n",
       "      <td>4</td>\n",
       "      <td>3</td>\n",
       "    </tr>\n",
       "    <tr>\n",
       "      <th>2</th>\n",
       "      <td>0</td>\n",
       "      <td>1005</td>\n",
       "      <td>0</td>\n",
       "      <td>28905ebd</td>\n",
       "      <td>7801e8d9</td>\n",
       "      <td>07d7df22</td>\n",
       "      <td>1</td>\n",
       "      <td>0</td>\n",
       "      <td>320</td>\n",
       "      <td>50</td>\n",
       "      <td>2545</td>\n",
       "      <td>34548</td>\n",
       "      <td>221</td>\n",
       "      <td>4</td>\n",
       "      <td>3</td>\n",
       "    </tr>\n",
       "  </tbody>\n",
       "</table>\n",
       "</div>"
      ],
      "text/plain": [
       "   click    C1  banner_pos site_category app_domain app_category  device_type  \\\n",
       "0      0  1005           1      3e814130   7801e8d9     07d7df22            1   \n",
       "1      1  1005           0      f028772b   7801e8d9     07d7df22            1   \n",
       "2      0  1005           0      28905ebd   7801e8d9     07d7df22            1   \n",
       "\n",
       "   device_conn_type  C15  C16   C17    C20  C21  hour_day  day_of_week  \n",
       "0                 0  320   50  1800  34541   23         4            3  \n",
       "1                 0  320   50  2547  65535   13         4            3  \n",
       "2                 0  320   50  2545  34548  221         4            3  "
      ]
     },
     "execution_count": 11,
     "metadata": {},
     "output_type": "execute_result"
    }
   ],
   "source": [
    "df.head(3)"
   ]
  },
  {
   "cell_type": "markdown",
   "metadata": {},
   "source": [
    "## Preprocessing: Dummy Encoding"
   ]
  },
  {
   "cell_type": "code",
   "execution_count": 12,
   "metadata": {},
   "outputs": [],
   "source": [
    "#specify categorical columns to be encoded\n",
    "cat_columns = [\"site_category\", \"app_category\", \"app_domain\"]"
   ]
  },
  {
   "cell_type": "code",
   "execution_count": 13,
   "metadata": {},
   "outputs": [],
   "source": [
    "#create dummy variables\n",
    "df_preprocessed = pd.get_dummies(df, columns = cat_columns, prefix = 'int_').astype(np.int8)"
   ]
  },
  {
   "cell_type": "code",
   "execution_count": 14,
   "metadata": {},
   "outputs": [
    {
     "data": {
      "text/html": [
       "<div>\n",
       "<style scoped>\n",
       "    .dataframe tbody tr th:only-of-type {\n",
       "        vertical-align: middle;\n",
       "    }\n",
       "\n",
       "    .dataframe tbody tr th {\n",
       "        vertical-align: top;\n",
       "    }\n",
       "\n",
       "    .dataframe thead th {\n",
       "        text-align: right;\n",
       "    }\n",
       "</style>\n",
       "<table border=\"1\" class=\"dataframe\">\n",
       "  <thead>\n",
       "    <tr style=\"text-align: right;\">\n",
       "      <th></th>\n",
       "      <th>click</th>\n",
       "      <th>C1</th>\n",
       "      <th>banner_pos</th>\n",
       "      <th>device_type</th>\n",
       "      <th>device_conn_type</th>\n",
       "      <th>C15</th>\n",
       "      <th>C16</th>\n",
       "      <th>C17</th>\n",
       "      <th>C20</th>\n",
       "      <th>C21</th>\n",
       "      <th>...</th>\n",
       "      <th>int__f435cae0</th>\n",
       "      <th>int__f75ccedd</th>\n",
       "      <th>int__f7f22564</th>\n",
       "      <th>int__f84a2400</th>\n",
       "      <th>int__fc41b20c</th>\n",
       "      <th>int__fd0f197b</th>\n",
       "      <th>int__fd5f0ee2</th>\n",
       "      <th>int__fd68cbd8</th>\n",
       "      <th>int__fdbdd2a9</th>\n",
       "      <th>int__fe369646</th>\n",
       "    </tr>\n",
       "  </thead>\n",
       "  <tbody>\n",
       "    <tr>\n",
       "      <th>0</th>\n",
       "      <td>0</td>\n",
       "      <td>-19</td>\n",
       "      <td>1</td>\n",
       "      <td>1</td>\n",
       "      <td>0</td>\n",
       "      <td>64</td>\n",
       "      <td>50</td>\n",
       "      <td>8</td>\n",
       "      <td>-19</td>\n",
       "      <td>23</td>\n",
       "      <td>...</td>\n",
       "      <td>0</td>\n",
       "      <td>0</td>\n",
       "      <td>0</td>\n",
       "      <td>0</td>\n",
       "      <td>0</td>\n",
       "      <td>0</td>\n",
       "      <td>0</td>\n",
       "      <td>0</td>\n",
       "      <td>0</td>\n",
       "      <td>0</td>\n",
       "    </tr>\n",
       "    <tr>\n",
       "      <th>1</th>\n",
       "      <td>1</td>\n",
       "      <td>-19</td>\n",
       "      <td>0</td>\n",
       "      <td>1</td>\n",
       "      <td>0</td>\n",
       "      <td>64</td>\n",
       "      <td>50</td>\n",
       "      <td>-13</td>\n",
       "      <td>-1</td>\n",
       "      <td>13</td>\n",
       "      <td>...</td>\n",
       "      <td>0</td>\n",
       "      <td>0</td>\n",
       "      <td>0</td>\n",
       "      <td>0</td>\n",
       "      <td>0</td>\n",
       "      <td>0</td>\n",
       "      <td>0</td>\n",
       "      <td>0</td>\n",
       "      <td>0</td>\n",
       "      <td>0</td>\n",
       "    </tr>\n",
       "  </tbody>\n",
       "</table>\n",
       "<p>2 rows × 199 columns</p>\n",
       "</div>"
      ],
      "text/plain": [
       "   click  C1  banner_pos  device_type  device_conn_type  C15  C16  C17  C20  \\\n",
       "0      0 -19           1            1                 0   64   50    8  -19   \n",
       "1      1 -19           0            1                 0   64   50  -13   -1   \n",
       "\n",
       "   C21  ...  int__f435cae0  int__f75ccedd  int__f7f22564  int__f84a2400  \\\n",
       "0   23  ...              0              0              0              0   \n",
       "1   13  ...              0              0              0              0   \n",
       "\n",
       "   int__fc41b20c  int__fd0f197b  int__fd5f0ee2  int__fd68cbd8  int__fdbdd2a9  \\\n",
       "0              0              0              0              0              0   \n",
       "1              0              0              0              0              0   \n",
       "\n",
       "   int__fe369646  \n",
       "0              0  \n",
       "1              0  \n",
       "\n",
       "[2 rows x 199 columns]"
      ]
     },
     "execution_count": 14,
     "metadata": {},
     "output_type": "execute_result"
    }
   ],
   "source": [
    "#look at data\n",
    "df_preprocessed.head(2)"
   ]
  },
  {
   "cell_type": "code",
   "execution_count": 15,
   "metadata": {},
   "outputs": [
    {
     "data": {
      "text/plain": [
       "(400000, 199)"
      ]
     },
     "execution_count": 15,
     "metadata": {},
     "output_type": "execute_result"
    }
   ],
   "source": [
    "df_preprocessed.shape"
   ]
  },
  {
   "cell_type": "markdown",
   "metadata": {},
   "source": [
    "# Create train and test sets"
   ]
  },
  {
   "cell_type": "code",
   "execution_count": 16,
   "metadata": {},
   "outputs": [],
   "source": [
    "#separate out features and target variable\n",
    "X = df_preprocessed.drop('click', axis=1)\n",
    "#X = df_preprocessed.drop('click', axis=1).iloc[:,[ XX]] #use in case of selected variables \n",
    "y = df_preprocessed.click"
   ]
  },
  {
   "cell_type": "code",
   "execution_count": 17,
   "metadata": {},
   "outputs": [
    {
     "data": {
      "text/html": [
       "<div>\n",
       "<style scoped>\n",
       "    .dataframe tbody tr th:only-of-type {\n",
       "        vertical-align: middle;\n",
       "    }\n",
       "\n",
       "    .dataframe tbody tr th {\n",
       "        vertical-align: top;\n",
       "    }\n",
       "\n",
       "    .dataframe thead th {\n",
       "        text-align: right;\n",
       "    }\n",
       "</style>\n",
       "<table border=\"1\" class=\"dataframe\">\n",
       "  <thead>\n",
       "    <tr style=\"text-align: right;\">\n",
       "      <th></th>\n",
       "      <th>C1</th>\n",
       "      <th>banner_pos</th>\n",
       "      <th>device_type</th>\n",
       "      <th>device_conn_type</th>\n",
       "      <th>C15</th>\n",
       "      <th>C16</th>\n",
       "      <th>C17</th>\n",
       "      <th>C20</th>\n",
       "      <th>C21</th>\n",
       "      <th>hour_day</th>\n",
       "      <th>...</th>\n",
       "      <th>int__f435cae0</th>\n",
       "      <th>int__f75ccedd</th>\n",
       "      <th>int__f7f22564</th>\n",
       "      <th>int__f84a2400</th>\n",
       "      <th>int__fc41b20c</th>\n",
       "      <th>int__fd0f197b</th>\n",
       "      <th>int__fd5f0ee2</th>\n",
       "      <th>int__fd68cbd8</th>\n",
       "      <th>int__fdbdd2a9</th>\n",
       "      <th>int__fe369646</th>\n",
       "    </tr>\n",
       "  </thead>\n",
       "  <tbody>\n",
       "    <tr>\n",
       "      <th>0</th>\n",
       "      <td>-19</td>\n",
       "      <td>1</td>\n",
       "      <td>1</td>\n",
       "      <td>0</td>\n",
       "      <td>64</td>\n",
       "      <td>50</td>\n",
       "      <td>8</td>\n",
       "      <td>-19</td>\n",
       "      <td>23</td>\n",
       "      <td>4</td>\n",
       "      <td>...</td>\n",
       "      <td>0</td>\n",
       "      <td>0</td>\n",
       "      <td>0</td>\n",
       "      <td>0</td>\n",
       "      <td>0</td>\n",
       "      <td>0</td>\n",
       "      <td>0</td>\n",
       "      <td>0</td>\n",
       "      <td>0</td>\n",
       "      <td>0</td>\n",
       "    </tr>\n",
       "    <tr>\n",
       "      <th>1</th>\n",
       "      <td>-19</td>\n",
       "      <td>0</td>\n",
       "      <td>1</td>\n",
       "      <td>0</td>\n",
       "      <td>64</td>\n",
       "      <td>50</td>\n",
       "      <td>-13</td>\n",
       "      <td>-1</td>\n",
       "      <td>13</td>\n",
       "      <td>4</td>\n",
       "      <td>...</td>\n",
       "      <td>0</td>\n",
       "      <td>0</td>\n",
       "      <td>0</td>\n",
       "      <td>0</td>\n",
       "      <td>0</td>\n",
       "      <td>0</td>\n",
       "      <td>0</td>\n",
       "      <td>0</td>\n",
       "      <td>0</td>\n",
       "      <td>0</td>\n",
       "    </tr>\n",
       "    <tr>\n",
       "      <th>2</th>\n",
       "      <td>-19</td>\n",
       "      <td>0</td>\n",
       "      <td>1</td>\n",
       "      <td>0</td>\n",
       "      <td>64</td>\n",
       "      <td>50</td>\n",
       "      <td>-15</td>\n",
       "      <td>-12</td>\n",
       "      <td>-35</td>\n",
       "      <td>4</td>\n",
       "      <td>...</td>\n",
       "      <td>0</td>\n",
       "      <td>0</td>\n",
       "      <td>0</td>\n",
       "      <td>0</td>\n",
       "      <td>0</td>\n",
       "      <td>0</td>\n",
       "      <td>0</td>\n",
       "      <td>0</td>\n",
       "      <td>0</td>\n",
       "      <td>0</td>\n",
       "    </tr>\n",
       "    <tr>\n",
       "      <th>3</th>\n",
       "      <td>-19</td>\n",
       "      <td>0</td>\n",
       "      <td>1</td>\n",
       "      <td>0</td>\n",
       "      <td>64</td>\n",
       "      <td>50</td>\n",
       "      <td>-12</td>\n",
       "      <td>-1</td>\n",
       "      <td>-100</td>\n",
       "      <td>4</td>\n",
       "      <td>...</td>\n",
       "      <td>0</td>\n",
       "      <td>0</td>\n",
       "      <td>0</td>\n",
       "      <td>0</td>\n",
       "      <td>0</td>\n",
       "      <td>0</td>\n",
       "      <td>0</td>\n",
       "      <td>0</td>\n",
       "      <td>0</td>\n",
       "      <td>0</td>\n",
       "    </tr>\n",
       "    <tr>\n",
       "      <th>4</th>\n",
       "      <td>-19</td>\n",
       "      <td>1</td>\n",
       "      <td>1</td>\n",
       "      <td>0</td>\n",
       "      <td>64</td>\n",
       "      <td>50</td>\n",
       "      <td>-32</td>\n",
       "      <td>-15</td>\n",
       "      <td>-35</td>\n",
       "      <td>4</td>\n",
       "      <td>...</td>\n",
       "      <td>0</td>\n",
       "      <td>0</td>\n",
       "      <td>0</td>\n",
       "      <td>0</td>\n",
       "      <td>0</td>\n",
       "      <td>0</td>\n",
       "      <td>0</td>\n",
       "      <td>0</td>\n",
       "      <td>0</td>\n",
       "      <td>0</td>\n",
       "    </tr>\n",
       "  </tbody>\n",
       "</table>\n",
       "<p>5 rows × 198 columns</p>\n",
       "</div>"
      ],
      "text/plain": [
       "   C1  banner_pos  device_type  device_conn_type  C15  C16  C17  C20  C21  \\\n",
       "0 -19           1            1                 0   64   50    8  -19   23   \n",
       "1 -19           0            1                 0   64   50  -13   -1   13   \n",
       "2 -19           0            1                 0   64   50  -15  -12  -35   \n",
       "3 -19           0            1                 0   64   50  -12   -1 -100   \n",
       "4 -19           1            1                 0   64   50  -32  -15  -35   \n",
       "\n",
       "   hour_day  ...  int__f435cae0  int__f75ccedd  int__f7f22564  int__f84a2400  \\\n",
       "0         4  ...              0              0              0              0   \n",
       "1         4  ...              0              0              0              0   \n",
       "2         4  ...              0              0              0              0   \n",
       "3         4  ...              0              0              0              0   \n",
       "4         4  ...              0              0              0              0   \n",
       "\n",
       "   int__fc41b20c  int__fd0f197b  int__fd5f0ee2  int__fd68cbd8  int__fdbdd2a9  \\\n",
       "0              0              0              0              0              0   \n",
       "1              0              0              0              0              0   \n",
       "2              0              0              0              0              0   \n",
       "3              0              0              0              0              0   \n",
       "4              0              0              0              0              0   \n",
       "\n",
       "   int__fe369646  \n",
       "0              0  \n",
       "1              0  \n",
       "2              0  \n",
       "3              0  \n",
       "4              0  \n",
       "\n",
       "[5 rows x 198 columns]"
      ]
     },
     "execution_count": 17,
     "metadata": {},
     "output_type": "execute_result"
    }
   ],
   "source": [
    "X.head()"
   ]
  },
  {
   "cell_type": "code",
   "execution_count": 18,
   "metadata": {},
   "outputs": [],
   "source": [
    "#create train and test sets\n",
    "X_train, X_test, y_train, y_test = sklearn.model_selection.train_test_split(X, y, \n",
    "                                        test_size= 0.2, random_state = 5, stratify = y)"
   ]
  },
  {
   "cell_type": "markdown",
   "metadata": {},
   "source": [
    "## Scale: MinMax"
   ]
  },
  {
   "cell_type": "code",
   "execution_count": 34,
   "metadata": {},
   "outputs": [],
   "source": [
    "#standardize (NOT if descision tree or XGBoost)\n",
    "scaler = MinMaxScaler().fit(X_train)\n",
    "X_train = scaler.transform(X_train)\n",
    "X_test = scaler.transform(X_test)"
   ]
  },
  {
   "cell_type": "markdown",
   "metadata": {},
   "source": [
    "# Feature Selection with Recursive Feature Elimination"
   ]
  },
  {
   "cell_type": "code",
   "execution_count": 40,
   "metadata": {
    "collapsed": true
   },
   "outputs": [
    {
     "ename": "KeyboardInterrupt",
     "evalue": "",
     "output_type": "error",
     "traceback": [
      "\u001b[0;31m---------------------------------------------------------------------------\u001b[0m",
      "\u001b[0;31mKeyboardInterrupt\u001b[0m                         Traceback (most recent call last)",
      "\u001b[0;32m<ipython-input-40-9590ee64649e>\u001b[0m in \u001b[0;36m<module>\u001b[0;34m()\u001b[0m\n\u001b[1;32m      1\u001b[0m \u001b[0mlogreg\u001b[0m \u001b[0;34m=\u001b[0m \u001b[0mLogisticRegression\u001b[0m\u001b[0;34m(\u001b[0m\u001b[0msolver\u001b[0m \u001b[0;34m=\u001b[0m\u001b[0;34m'liblinear'\u001b[0m\u001b[0;34m)\u001b[0m\u001b[0;34m\u001b[0m\u001b[0m\n\u001b[1;32m      2\u001b[0m \u001b[0mrfe\u001b[0m \u001b[0;34m=\u001b[0m \u001b[0mRFE\u001b[0m\u001b[0;34m(\u001b[0m\u001b[0mlogreg\u001b[0m\u001b[0;34m)\u001b[0m\u001b[0;34m\u001b[0m\u001b[0m\n\u001b[0;32m----> 3\u001b[0;31m \u001b[0mrfe\u001b[0m \u001b[0;34m=\u001b[0m \u001b[0mrfe\u001b[0m\u001b[0;34m.\u001b[0m\u001b[0mfit\u001b[0m\u001b[0;34m(\u001b[0m\u001b[0mX_train\u001b[0m\u001b[0;34m,\u001b[0m \u001b[0my_train\u001b[0m\u001b[0;34m)\u001b[0m\u001b[0;34m\u001b[0m\u001b[0m\n\u001b[0m\u001b[1;32m      4\u001b[0m \u001b[0mprint\u001b[0m\u001b[0;34m(\u001b[0m\u001b[0mrfe\u001b[0m\u001b[0;34m.\u001b[0m\u001b[0msupport_\u001b[0m\u001b[0;34m)\u001b[0m\u001b[0;34m\u001b[0m\u001b[0m\n\u001b[1;32m      5\u001b[0m \u001b[0mprint\u001b[0m\u001b[0;34m(\u001b[0m\u001b[0mrfe\u001b[0m\u001b[0;34m.\u001b[0m\u001b[0mranking_\u001b[0m\u001b[0;34m)\u001b[0m\u001b[0;34m\u001b[0m\u001b[0m\n",
      "\u001b[0;32m/anaconda3/lib/python3.6/site-packages/sklearn/feature_selection/rfe.py\u001b[0m in \u001b[0;36mfit\u001b[0;34m(self, X, y)\u001b[0m\n\u001b[1;32m    142\u001b[0m             \u001b[0mThe\u001b[0m \u001b[0mtarget\u001b[0m \u001b[0mvalues\u001b[0m\u001b[0;34m.\u001b[0m\u001b[0;34m\u001b[0m\u001b[0m\n\u001b[1;32m    143\u001b[0m         \"\"\"\n\u001b[0;32m--> 144\u001b[0;31m         \u001b[0;32mreturn\u001b[0m \u001b[0mself\u001b[0m\u001b[0;34m.\u001b[0m\u001b[0m_fit\u001b[0m\u001b[0;34m(\u001b[0m\u001b[0mX\u001b[0m\u001b[0;34m,\u001b[0m \u001b[0my\u001b[0m\u001b[0;34m)\u001b[0m\u001b[0;34m\u001b[0m\u001b[0m\n\u001b[0m\u001b[1;32m    145\u001b[0m \u001b[0;34m\u001b[0m\u001b[0m\n\u001b[1;32m    146\u001b[0m     \u001b[0;32mdef\u001b[0m \u001b[0m_fit\u001b[0m\u001b[0;34m(\u001b[0m\u001b[0mself\u001b[0m\u001b[0;34m,\u001b[0m \u001b[0mX\u001b[0m\u001b[0;34m,\u001b[0m \u001b[0my\u001b[0m\u001b[0;34m,\u001b[0m \u001b[0mstep_score\u001b[0m\u001b[0;34m=\u001b[0m\u001b[0;32mNone\u001b[0m\u001b[0;34m)\u001b[0m\u001b[0;34m:\u001b[0m\u001b[0;34m\u001b[0m\u001b[0m\n",
      "\u001b[0;32m/anaconda3/lib/python3.6/site-packages/sklearn/feature_selection/rfe.py\u001b[0m in \u001b[0;36m_fit\u001b[0;34m(self, X, y, step_score)\u001b[0m\n\u001b[1;32m    181\u001b[0m                 \u001b[0mprint\u001b[0m\u001b[0;34m(\u001b[0m\u001b[0;34m\"Fitting estimator with %d features.\"\u001b[0m \u001b[0;34m%\u001b[0m \u001b[0mnp\u001b[0m\u001b[0;34m.\u001b[0m\u001b[0msum\u001b[0m\u001b[0;34m(\u001b[0m\u001b[0msupport_\u001b[0m\u001b[0;34m)\u001b[0m\u001b[0;34m)\u001b[0m\u001b[0;34m\u001b[0m\u001b[0m\n\u001b[1;32m    182\u001b[0m \u001b[0;34m\u001b[0m\u001b[0m\n\u001b[0;32m--> 183\u001b[0;31m             \u001b[0mestimator\u001b[0m\u001b[0;34m.\u001b[0m\u001b[0mfit\u001b[0m\u001b[0;34m(\u001b[0m\u001b[0mX\u001b[0m\u001b[0;34m[\u001b[0m\u001b[0;34m:\u001b[0m\u001b[0;34m,\u001b[0m \u001b[0mfeatures\u001b[0m\u001b[0;34m]\u001b[0m\u001b[0;34m,\u001b[0m \u001b[0my\u001b[0m\u001b[0;34m)\u001b[0m\u001b[0;34m\u001b[0m\u001b[0m\n\u001b[0m\u001b[1;32m    184\u001b[0m \u001b[0;34m\u001b[0m\u001b[0m\n\u001b[1;32m    185\u001b[0m             \u001b[0;31m# Get coefs\u001b[0m\u001b[0;34m\u001b[0m\u001b[0;34m\u001b[0m\u001b[0m\n",
      "\u001b[0;32m/anaconda3/lib/python3.6/site-packages/sklearn/linear_model/logistic.py\u001b[0m in \u001b[0;36mfit\u001b[0;34m(self, X, y, sample_weight)\u001b[0m\n\u001b[1;32m   1547\u001b[0m                 \u001b[0mself\u001b[0m\u001b[0;34m.\u001b[0m\u001b[0mclass_weight\u001b[0m\u001b[0;34m,\u001b[0m \u001b[0mself\u001b[0m\u001b[0;34m.\u001b[0m\u001b[0mpenalty\u001b[0m\u001b[0;34m,\u001b[0m \u001b[0mself\u001b[0m\u001b[0;34m.\u001b[0m\u001b[0mdual\u001b[0m\u001b[0;34m,\u001b[0m \u001b[0mself\u001b[0m\u001b[0;34m.\u001b[0m\u001b[0mverbose\u001b[0m\u001b[0;34m,\u001b[0m\u001b[0;34m\u001b[0m\u001b[0m\n\u001b[1;32m   1548\u001b[0m                 \u001b[0mself\u001b[0m\u001b[0;34m.\u001b[0m\u001b[0mmax_iter\u001b[0m\u001b[0;34m,\u001b[0m \u001b[0mself\u001b[0m\u001b[0;34m.\u001b[0m\u001b[0mtol\u001b[0m\u001b[0;34m,\u001b[0m \u001b[0mself\u001b[0m\u001b[0;34m.\u001b[0m\u001b[0mrandom_state\u001b[0m\u001b[0;34m,\u001b[0m\u001b[0;34m\u001b[0m\u001b[0m\n\u001b[0;32m-> 1549\u001b[0;31m                 sample_weight=sample_weight)\n\u001b[0m\u001b[1;32m   1550\u001b[0m             \u001b[0mself\u001b[0m\u001b[0;34m.\u001b[0m\u001b[0mn_iter_\u001b[0m \u001b[0;34m=\u001b[0m \u001b[0mnp\u001b[0m\u001b[0;34m.\u001b[0m\u001b[0marray\u001b[0m\u001b[0;34m(\u001b[0m\u001b[0;34m[\u001b[0m\u001b[0mn_iter_\u001b[0m\u001b[0;34m]\u001b[0m\u001b[0;34m)\u001b[0m\u001b[0;34m\u001b[0m\u001b[0m\n\u001b[1;32m   1551\u001b[0m             \u001b[0;32mreturn\u001b[0m \u001b[0mself\u001b[0m\u001b[0;34m\u001b[0m\u001b[0m\n",
      "\u001b[0;32m/anaconda3/lib/python3.6/site-packages/sklearn/svm/base.py\u001b[0m in \u001b[0;36m_fit_liblinear\u001b[0;34m(X, y, C, fit_intercept, intercept_scaling, class_weight, penalty, dual, verbose, max_iter, tol, random_state, multi_class, loss, epsilon, sample_weight)\u001b[0m\n\u001b[1;32m    919\u001b[0m         \u001b[0mX\u001b[0m\u001b[0;34m,\u001b[0m \u001b[0my_ind\u001b[0m\u001b[0;34m,\u001b[0m \u001b[0msp\u001b[0m\u001b[0;34m.\u001b[0m\u001b[0misspmatrix\u001b[0m\u001b[0;34m(\u001b[0m\u001b[0mX\u001b[0m\u001b[0;34m)\u001b[0m\u001b[0;34m,\u001b[0m \u001b[0msolver_type\u001b[0m\u001b[0;34m,\u001b[0m \u001b[0mtol\u001b[0m\u001b[0;34m,\u001b[0m \u001b[0mbias\u001b[0m\u001b[0;34m,\u001b[0m \u001b[0mC\u001b[0m\u001b[0;34m,\u001b[0m\u001b[0;34m\u001b[0m\u001b[0m\n\u001b[1;32m    920\u001b[0m         \u001b[0mclass_weight_\u001b[0m\u001b[0;34m,\u001b[0m \u001b[0mmax_iter\u001b[0m\u001b[0;34m,\u001b[0m \u001b[0mrnd\u001b[0m\u001b[0;34m.\u001b[0m\u001b[0mrandint\u001b[0m\u001b[0;34m(\u001b[0m\u001b[0mnp\u001b[0m\u001b[0;34m.\u001b[0m\u001b[0miinfo\u001b[0m\u001b[0;34m(\u001b[0m\u001b[0;34m'i'\u001b[0m\u001b[0;34m)\u001b[0m\u001b[0;34m.\u001b[0m\u001b[0mmax\u001b[0m\u001b[0;34m)\u001b[0m\u001b[0;34m,\u001b[0m\u001b[0;34m\u001b[0m\u001b[0m\n\u001b[0;32m--> 921\u001b[0;31m         epsilon, sample_weight)\n\u001b[0m\u001b[1;32m    922\u001b[0m     \u001b[0;31m# Regarding rnd.randint(..) in the above signature:\u001b[0m\u001b[0;34m\u001b[0m\u001b[0;34m\u001b[0m\u001b[0m\n\u001b[1;32m    923\u001b[0m     \u001b[0;31m# seed for srand in range [0..INT_MAX); due to limitations in Numpy\u001b[0m\u001b[0;34m\u001b[0m\u001b[0;34m\u001b[0m\u001b[0m\n",
      "\u001b[0;31mKeyboardInterrupt\u001b[0m: "
     ]
    }
   ],
   "source": [
    "logreg = LogisticRegression(solver ='liblinear')\n",
    "rfe = RFE(logreg)\n",
    "rfe = rfe.fit(X_train, y_train)\n",
    "print(rfe.support_)\n",
    "print(rfe.ranking_)"
   ]
  },
  {
   "cell_type": "markdown",
   "metadata": {},
   "source": [
    "# Model 1: Decision Tree"
   ]
  },
  {
   "cell_type": "code",
   "execution_count": 31,
   "metadata": {},
   "outputs": [
    {
     "name": "stdout",
     "output_type": "stream",
     "text": [
      "{'max_depth': 10, 'min_samples_split': 210}\n"
     ]
    }
   ],
   "source": [
    "#find best three max depth and minimum samples for split with grid search\n",
    "params = {'max_depth' : [5,10,15,20,None],\n",
    "          'min_samples_split' : range(10,500,50)\n",
    "        }\n",
    "\n",
    "decision_tree = DecisionTreeClassifier()\n",
    "grid_search = GridSearchCV(decision_tree, params, cv=5,scoring='roc_auc') #setting cv = 5 ensures stratified split\n",
    "grid_search.fit(X_train, y_train)\n",
    "\n",
    "print(grid_search.best_params_)"
   ]
  },
  {
   "cell_type": "code",
   "execution_count": 19,
   "metadata": {},
   "outputs": [
    {
     "name": "stdout",
     "output_type": "stream",
     "text": [
      "1 of KFold 5\n",
      "ROC AUC score: 0.5236925130445335\n",
      "Logloss score: 5.833189773270449\n",
      "2 of KFold 5\n",
      "ROC AUC score: 0.5248977474127753\n",
      "Logloss score: 5.832650663036109\n",
      "3 of KFold 5\n",
      "ROC AUC score: 0.5269115893637379\n",
      "Logloss score: 5.834361090701556\n",
      "4 of KFold 5\n",
      "ROC AUC score: 0.5236093859819615\n",
      "Logloss score: 5.785342388625037\n",
      "5 of KFold 5\n",
      "ROC AUC score: 0.522903050111081\n",
      "Logloss score: 5.85927682521885\n",
      "0.5244028571828178\n",
      "5.8289641481704\n"
     ]
    }
   ],
   "source": [
    "#stratified k-fold with 5 splits\n",
    "kf = StratifiedKFold(n_splits=5, shuffle=True, random_state=5)\n",
    "pred_test_full = 0\n",
    "scores_auc =[]\n",
    "scores_logloss =[]\n",
    "i=1\n",
    "for train_index,test_index in kf.split(X_train,y_train):\n",
    "    print('{} of KFold {}'.format(i,kf.n_splits))\n",
    "    xtr,xvl = X.loc[train_index],X.loc[test_index]\n",
    "    ytr,yvl = y.loc[train_index],y.loc[test_index]\n",
    "    \n",
    "    #model\n",
    "    descision_tree_model = DecisionTreeClassifier(max_depth=10, min_samples_split= 210)\n",
    "    descision_tree_model.fit(xtr,ytr)\n",
    "    \n",
    "    #get roc_auc\n",
    "    auc = roc_auc_score(yvl,descision_tree_model.predict(xvl))\n",
    "    print('ROC AUC score:',auc)\n",
    "    scores_auc.append(auc) \n",
    "    \n",
    "    #get logloss\n",
    "    logloss = log_loss(yvl,descision_tree_model.predict(xvl))\n",
    "    print('Logloss score:',logloss)\n",
    "    scores_logloss.append(logloss)\n",
    "    \n",
    "    pred_test = descision_tree_model.predict_proba(X_test)[:,1]\n",
    "    pred_test_full +=pred_test\n",
    "    i+=1\n",
    "    \n",
    "print(np.mean(scores_auc))\n",
    "print(np.mean(scores_logloss))"
   ]
  },
  {
   "cell_type": "code",
   "execution_count": 20,
   "metadata": {},
   "outputs": [
    {
     "name": "stdout",
     "output_type": "stream",
     "text": [
      "-0.42478500286810494\n"
     ]
    }
   ],
   "source": [
    "#test different k-fold function (cv=10 makes stratified)\n",
    "descision_tree_model = DecisionTreeClassifier(max_depth=10,min_samples_split= 210) \n",
    "print(cross_val_score(descision_tree_model, X_train, y_train, cv=10, scoring='neg_log_loss').mean())"
   ]
  },
  {
   "cell_type": "code",
   "execution_count": 21,
   "metadata": {},
   "outputs": [
    {
     "name": "stdout",
     "output_type": "stream",
     "text": [
      "0.6942606406661594\n"
     ]
    }
   ],
   "source": [
    "#different scoring\n",
    "print(cross_val_score(descision_tree_model, X_train, y_train, cv=10, scoring='roc_auc').mean())"
   ]
  },
  {
   "cell_type": "code",
   "execution_count": 22,
   "metadata": {},
   "outputs": [
    {
     "data": {
      "text/plain": [
       "DecisionTreeClassifier(class_weight=None, criterion='gini', max_depth=10,\n",
       "                       max_features=None, max_leaf_nodes=None,\n",
       "                       min_impurity_decrease=0.0, min_impurity_split=None,\n",
       "                       min_samples_leaf=1, min_samples_split=210,\n",
       "                       min_weight_fraction_leaf=0.0, presort=False,\n",
       "                       random_state=None, splitter='best')"
      ]
     },
     "execution_count": 22,
     "metadata": {},
     "output_type": "execute_result"
    }
   ],
   "source": [
    "#fit model\n",
    "descision_tree_model.fit(X_train, y_train)"
   ]
  },
  {
   "cell_type": "code",
   "execution_count": 23,
   "metadata": {},
   "outputs": [
    {
     "name": "stdout",
     "output_type": "stream",
     "text": [
      "(array([  0,   1,   2,   3,   4,   5,   6,   7,   8,   9,  10,  13,  14,\n",
      "        15,  31,  33,  52,  55,  87, 106, 113, 134, 142, 153, 154]),)\n"
     ]
    }
   ],
   "source": [
    "#investigate feature importance\n",
    "print(np.where(descision_tree_model.feature_importances_ > 0.001))"
   ]
  },
  {
   "cell_type": "code",
   "execution_count": 24,
   "metadata": {},
   "outputs": [],
   "source": [
    "#Look at model results on test set\n",
    "y_predict_DT = descision_tree_model.predict(X_test)"
   ]
  },
  {
   "cell_type": "code",
   "execution_count": 25,
   "metadata": {},
   "outputs": [
    {
     "name": "stdout",
     "output_type": "stream",
     "text": [
      "[[65881   535]\n",
      " [12842   742]]\n"
     ]
    }
   ],
   "source": [
    "from sklearn.metrics import confusion_matrix\n",
    "confusion_matrix = confusion_matrix(y_test, y_predict_DT)\n",
    "print(confusion_matrix)"
   ]
  },
  {
   "cell_type": "code",
   "execution_count": 26,
   "metadata": {},
   "outputs": [
    {
     "name": "stdout",
     "output_type": "stream",
     "text": [
      "              precision    recall  f1-score   support\n",
      "\n",
      "           0       0.84      0.99      0.91     66416\n",
      "           1       0.58      0.05      0.10     13584\n",
      "\n",
      "    accuracy                           0.83     80000\n",
      "   macro avg       0.71      0.52      0.50     80000\n",
      "weighted avg       0.79      0.83      0.77     80000\n",
      "\n"
     ]
    }
   ],
   "source": [
    "print(classification_report(y_test, y_predict_DT))"
   ]
  },
  {
   "cell_type": "code",
   "execution_count": 27,
   "metadata": {},
   "outputs": [
    {
     "name": "stdout",
     "output_type": "stream",
     "text": [
      "ROC AUC: 0.523284\n"
     ]
    }
   ],
   "source": [
    "print('ROC AUC: %f' % roc_auc_score(y_test, y_predict_DT))"
   ]
  },
  {
   "cell_type": "markdown",
   "metadata": {},
   "source": [
    "## Model 2: Logistic Regression"
   ]
  },
  {
   "cell_type": "code",
   "execution_count": 114,
   "metadata": {
    "scrolled": true
   },
   "outputs": [
    {
     "name": "stderr",
     "output_type": "stream",
     "text": [
      "/anaconda3/lib/python3.6/site-packages/sklearn/linear_model/logistic.py:432: FutureWarning: Default solver will be changed to 'lbfgs' in 0.22. Specify a solver to silence this warning.\n",
      "  FutureWarning)\n",
      "/anaconda3/lib/python3.6/site-packages/sklearn/linear_model/logistic.py:432: FutureWarning: Default solver will be changed to 'lbfgs' in 0.22. Specify a solver to silence this warning.\n",
      "  FutureWarning)\n",
      "/anaconda3/lib/python3.6/site-packages/sklearn/linear_model/logistic.py:432: FutureWarning: Default solver will be changed to 'lbfgs' in 0.22. Specify a solver to silence this warning.\n",
      "  FutureWarning)\n",
      "/anaconda3/lib/python3.6/site-packages/sklearn/linear_model/logistic.py:432: FutureWarning: Default solver will be changed to 'lbfgs' in 0.22. Specify a solver to silence this warning.\n",
      "  FutureWarning)\n",
      "/anaconda3/lib/python3.6/site-packages/sklearn/linear_model/logistic.py:432: FutureWarning: Default solver will be changed to 'lbfgs' in 0.22. Specify a solver to silence this warning.\n",
      "  FutureWarning)\n",
      "/anaconda3/lib/python3.6/site-packages/sklearn/linear_model/logistic.py:432: FutureWarning: Default solver will be changed to 'lbfgs' in 0.22. Specify a solver to silence this warning.\n",
      "  FutureWarning)\n",
      "/anaconda3/lib/python3.6/site-packages/sklearn/linear_model/logistic.py:432: FutureWarning: Default solver will be changed to 'lbfgs' in 0.22. Specify a solver to silence this warning.\n",
      "  FutureWarning)\n",
      "/anaconda3/lib/python3.6/site-packages/sklearn/linear_model/logistic.py:432: FutureWarning: Default solver will be changed to 'lbfgs' in 0.22. Specify a solver to silence this warning.\n",
      "  FutureWarning)\n",
      "/anaconda3/lib/python3.6/site-packages/sklearn/linear_model/logistic.py:432: FutureWarning: Default solver will be changed to 'lbfgs' in 0.22. Specify a solver to silence this warning.\n",
      "  FutureWarning)\n",
      "/anaconda3/lib/python3.6/site-packages/sklearn/linear_model/logistic.py:432: FutureWarning: Default solver will be changed to 'lbfgs' in 0.22. Specify a solver to silence this warning.\n",
      "  FutureWarning)\n",
      "/anaconda3/lib/python3.6/site-packages/sklearn/linear_model/logistic.py:432: FutureWarning: Default solver will be changed to 'lbfgs' in 0.22. Specify a solver to silence this warning.\n",
      "  FutureWarning)\n"
     ]
    },
    {
     "name": "stdout",
     "output_type": "stream",
     "text": [
      "{'penalty': 'l2'}\n"
     ]
    }
   ],
   "source": [
    "#find best hyperparameter value with grid search\n",
    "params ={'penalty' : ['l1', 'l2']\n",
    "        }\n",
    "\n",
    "logreg = LogisticRegression(solver ='lbfgs')\n",
    "grid_search = GridSearchCV(logreg, params, cv=5)\n",
    "grid_search.fit(X_train, y_train)\n",
    "\n",
    "print(grid_search.best_params_)"
   ]
  },
  {
   "cell_type": "code",
   "execution_count": 35,
   "metadata": {},
   "outputs": [
    {
     "name": "stdout",
     "output_type": "stream",
     "text": [
      "1 of KFold 5\n",
      "ROC AUC score: 0.5019618181516164\n",
      "Logloss score: 5.935180955989056\n",
      "2 of KFold 5\n",
      "ROC AUC score: 0.5017050747788009\n",
      "Logloss score: 5.938419078098648\n",
      "3 of KFold 5\n",
      "ROC AUC score: 0.5020739891939585\n",
      "Logloss score: 5.946067085802321\n",
      "4 of KFold 5\n",
      "ROC AUC score: 0.5005412589379895\n",
      "Logloss score: 5.8344466067729375\n",
      "5 of KFold 5\n",
      "ROC AUC score: 0.5019068984697309\n",
      "Logloss score: 5.939683735355833\n",
      "0.5016378079064193\n",
      "5.918759492403759\n"
     ]
    }
   ],
   "source": [
    "kf = StratifiedKFold(n_splits=5, shuffle=True, random_state=5)\n",
    "pred_test_full = 0\n",
    "scores_auc =[]\n",
    "scores_logloss =[]\n",
    "i=1\n",
    "for train_index,test_index in kf.split(X_train,y_train):\n",
    "    print('{} of KFold {}'.format(i,kf.n_splits))\n",
    "    xtr,xvl = X.loc[train_index],X.loc[test_index]\n",
    "    ytr,yvl = y.loc[train_index],y.loc[test_index]\n",
    "    \n",
    "    #model\n",
    "    logreg = LogisticRegression(solver ='liblinear', penalty ='l2')\n",
    "    logreg.fit(xtr,ytr)\n",
    "    \n",
    "    #get roc_auc\n",
    "    auc = roc_auc_score(yvl,logreg.predict(xvl))\n",
    "    print('ROC AUC score:',auc)\n",
    "    scores_auc.append(auc) \n",
    "    \n",
    "    #get logloss\n",
    "    logloss = log_loss(yvl,logreg.predict(xvl))\n",
    "    print('Logloss score:',logloss)\n",
    "    scores_logloss.append(logloss)\n",
    "    \n",
    "    pred_test = logreg.predict_proba(X_test)[:,1]\n",
    "    pred_test_full +=pred_test\n",
    "    i+=1\n",
    "    \n",
    "print(np.mean(scores_auc))\n",
    "print(np.mean(scores_logloss))"
   ]
  },
  {
   "cell_type": "code",
   "execution_count": 36,
   "metadata": {},
   "outputs": [
    {
     "name": "stdout",
     "output_type": "stream",
     "text": [
      "-0.43129911742725363\n"
     ]
    }
   ],
   "source": [
    "logreg = LogisticRegression(solver ='liblinear', penalty ='l2')\n",
    "print(cross_val_score(logreg, X_train, y_train, cv=10, scoring='neg_log_loss').mean())"
   ]
  },
  {
   "cell_type": "code",
   "execution_count": 37,
   "metadata": {},
   "outputs": [
    {
     "name": "stdout",
     "output_type": "stream",
     "text": [
      "0.646894523288208\n"
     ]
    }
   ],
   "source": [
    "print(cross_val_score(logreg, X_train, y_train, cv=10, scoring='roc_auc').mean())"
   ]
  },
  {
   "cell_type": "code",
   "execution_count": 38,
   "metadata": {},
   "outputs": [
    {
     "data": {
      "text/plain": [
       "LogisticRegression(C=1.0, class_weight=None, dual=False, fit_intercept=True,\n",
       "                   intercept_scaling=1, l1_ratio=None, max_iter=100,\n",
       "                   multi_class='warn', n_jobs=None, penalty='l2',\n",
       "                   random_state=None, solver='liblinear', tol=0.0001, verbose=0,\n",
       "                   warm_start=False)"
      ]
     },
     "execution_count": 38,
     "metadata": {},
     "output_type": "execute_result"
    }
   ],
   "source": [
    "logreg = LogisticRegression(solver ='liblinear', penalty ='l2')\n",
    "logreg.fit(X_train, y_train)"
   ]
  },
  {
   "cell_type": "code",
   "execution_count": 39,
   "metadata": {},
   "outputs": [],
   "source": [
    "y_predict_logistic = logreg.predict(X_test)"
   ]
  },
  {
   "cell_type": "code",
   "execution_count": 40,
   "metadata": {},
   "outputs": [
    {
     "name": "stdout",
     "output_type": "stream",
     "text": [
      "[[66348    68]\n",
      " [13527    57]]\n"
     ]
    }
   ],
   "source": [
    "from sklearn.metrics import confusion_matrix\n",
    "confusion_matrix = confusion_matrix(y_test, y_predict_logistic)\n",
    "print(confusion_matrix)"
   ]
  },
  {
   "cell_type": "code",
   "execution_count": 41,
   "metadata": {},
   "outputs": [
    {
     "name": "stdout",
     "output_type": "stream",
     "text": [
      "              precision    recall  f1-score   support\n",
      "\n",
      "           0       0.83      1.00      0.91     66416\n",
      "           1       0.46      0.00      0.01     13584\n",
      "\n",
      "    accuracy                           0.83     80000\n",
      "   macro avg       0.64      0.50      0.46     80000\n",
      "weighted avg       0.77      0.83      0.75     80000\n",
      "\n"
     ]
    }
   ],
   "source": [
    "print(classification_report(y_test, y_predict_logistic))"
   ]
  },
  {
   "cell_type": "markdown",
   "metadata": {},
   "source": [
    "# Model 3: XGBoost"
   ]
  },
  {
   "cell_type": "code",
   "execution_count": 28,
   "metadata": {},
   "outputs": [],
   "source": [
    "#test following parameters\n",
    "# max_depth':[3,5,7]\n",
    "#'subsample':[0.4,0.6]\n",
    "\n",
    "# create instance of model\n",
    "XGB_model = XGBClassifier(max_depth=5, subsample=0.6)"
   ]
  },
  {
   "cell_type": "code",
   "execution_count": 29,
   "metadata": {},
   "outputs": [
    {
     "name": "stdout",
     "output_type": "stream",
     "text": [
      "[0]\tvalidation_0-logloss:0.649072\n",
      "Will train until validation_0-logloss hasn't improved in 10 rounds.\n",
      "[1]\tvalidation_0-logloss:0.613377\n",
      "[2]\tvalidation_0-logloss:0.583598\n",
      "[3]\tvalidation_0-logloss:0.559091\n",
      "[4]\tvalidation_0-logloss:0.538811\n",
      "[5]\tvalidation_0-logloss:0.52151\n",
      "[6]\tvalidation_0-logloss:0.507307\n",
      "[7]\tvalidation_0-logloss:0.494706\n",
      "[8]\tvalidation_0-logloss:0.484652\n",
      "[9]\tvalidation_0-logloss:0.475777\n",
      "[10]\tvalidation_0-logloss:0.468604\n",
      "[11]\tvalidation_0-logloss:0.462357\n",
      "[12]\tvalidation_0-logloss:0.457056\n",
      "[13]\tvalidation_0-logloss:0.45268\n",
      "[14]\tvalidation_0-logloss:0.448784\n",
      "[15]\tvalidation_0-logloss:0.44545\n",
      "[16]\tvalidation_0-logloss:0.44251\n",
      "[17]\tvalidation_0-logloss:0.440197\n",
      "[18]\tvalidation_0-logloss:0.438144\n",
      "[19]\tvalidation_0-logloss:0.436508\n",
      "[20]\tvalidation_0-logloss:0.435076\n",
      "[21]\tvalidation_0-logloss:0.433933\n",
      "[22]\tvalidation_0-logloss:0.43253\n",
      "[23]\tvalidation_0-logloss:0.431672\n",
      "[24]\tvalidation_0-logloss:0.430521\n",
      "[25]\tvalidation_0-logloss:0.429589\n",
      "[26]\tvalidation_0-logloss:0.428935\n",
      "[27]\tvalidation_0-logloss:0.428164\n",
      "[28]\tvalidation_0-logloss:0.427782\n",
      "[29]\tvalidation_0-logloss:0.427388\n",
      "[30]\tvalidation_0-logloss:0.427096\n",
      "[31]\tvalidation_0-logloss:0.426612\n",
      "[32]\tvalidation_0-logloss:0.426289\n",
      "[33]\tvalidation_0-logloss:0.425612\n",
      "[34]\tvalidation_0-logloss:0.424926\n",
      "[35]\tvalidation_0-logloss:0.424581\n",
      "[36]\tvalidation_0-logloss:0.424016\n",
      "[37]\tvalidation_0-logloss:0.423859\n",
      "[38]\tvalidation_0-logloss:0.423636\n",
      "[39]\tvalidation_0-logloss:0.423341\n",
      "[40]\tvalidation_0-logloss:0.422881\n",
      "[41]\tvalidation_0-logloss:0.422777\n",
      "[42]\tvalidation_0-logloss:0.422511\n",
      "[43]\tvalidation_0-logloss:0.422331\n",
      "[44]\tvalidation_0-logloss:0.422186\n",
      "[45]\tvalidation_0-logloss:0.422079\n",
      "[46]\tvalidation_0-logloss:0.421932\n",
      "[47]\tvalidation_0-logloss:0.421849\n",
      "[48]\tvalidation_0-logloss:0.421713\n",
      "[49]\tvalidation_0-logloss:0.421617\n",
      "[50]\tvalidation_0-logloss:0.421485\n",
      "[51]\tvalidation_0-logloss:0.4214\n",
      "[52]\tvalidation_0-logloss:0.42114\n",
      "[53]\tvalidation_0-logloss:0.421042\n",
      "[54]\tvalidation_0-logloss:0.420765\n",
      "[55]\tvalidation_0-logloss:0.4207\n",
      "[56]\tvalidation_0-logloss:0.420435\n",
      "[57]\tvalidation_0-logloss:0.420079\n",
      "[58]\tvalidation_0-logloss:0.420016\n",
      "[59]\tvalidation_0-logloss:0.419941\n",
      "[60]\tvalidation_0-logloss:0.41987\n",
      "[61]\tvalidation_0-logloss:0.419781\n",
      "[62]\tvalidation_0-logloss:0.41955\n",
      "[63]\tvalidation_0-logloss:0.419409\n",
      "[64]\tvalidation_0-logloss:0.41926\n",
      "[65]\tvalidation_0-logloss:0.419212\n",
      "[66]\tvalidation_0-logloss:0.419166\n",
      "[67]\tvalidation_0-logloss:0.419105\n",
      "[68]\tvalidation_0-logloss:0.419065\n",
      "[69]\tvalidation_0-logloss:0.418865\n",
      "[70]\tvalidation_0-logloss:0.418854\n",
      "[71]\tvalidation_0-logloss:0.418592\n",
      "[72]\tvalidation_0-logloss:0.418509\n",
      "[73]\tvalidation_0-logloss:0.41836\n",
      "[74]\tvalidation_0-logloss:0.418331\n",
      "[75]\tvalidation_0-logloss:0.418291\n",
      "[76]\tvalidation_0-logloss:0.418259\n",
      "[77]\tvalidation_0-logloss:0.418199\n",
      "[78]\tvalidation_0-logloss:0.418058\n",
      "[79]\tvalidation_0-logloss:0.417891\n",
      "[80]\tvalidation_0-logloss:0.417825\n",
      "[81]\tvalidation_0-logloss:0.4178\n",
      "[82]\tvalidation_0-logloss:0.417734\n",
      "[83]\tvalidation_0-logloss:0.417681\n",
      "[84]\tvalidation_0-logloss:0.417635\n",
      "[85]\tvalidation_0-logloss:0.417578\n",
      "[86]\tvalidation_0-logloss:0.417562\n",
      "[87]\tvalidation_0-logloss:0.417528\n",
      "[88]\tvalidation_0-logloss:0.417345\n",
      "[89]\tvalidation_0-logloss:0.417325\n",
      "[90]\tvalidation_0-logloss:0.417272\n",
      "[91]\tvalidation_0-logloss:0.417178\n",
      "[92]\tvalidation_0-logloss:0.417144\n",
      "[93]\tvalidation_0-logloss:0.417126\n",
      "[94]\tvalidation_0-logloss:0.417053\n",
      "[95]\tvalidation_0-logloss:0.416982\n",
      "[96]\tvalidation_0-logloss:0.416946\n",
      "[97]\tvalidation_0-logloss:0.416913\n",
      "[98]\tvalidation_0-logloss:0.416898\n",
      "[99]\tvalidation_0-logloss:0.416797\n"
     ]
    },
    {
     "data": {
      "text/plain": [
       "XGBClassifier(base_score=0.5, booster='gbtree', colsample_bylevel=1,\n",
       "              colsample_bytree=1, gamma=0, learning_rate=0.1, max_delta_step=0,\n",
       "              max_depth=5, min_child_weight=1, missing=None, n_estimators=100,\n",
       "              n_jobs=1, nthread=None, objective='binary:logistic',\n",
       "              random_state=0, reg_alpha=0, reg_lambda=1, scale_pos_weight=1,\n",
       "              seed=None, silent=True, subsample=0.6)"
      ]
     },
     "execution_count": 29,
     "metadata": {},
     "output_type": "execute_result"
    }
   ],
   "source": [
    "XGB_model.fit(X_train, y_train, early_stopping_rounds=10, eval_metric=\"logloss\", eval_set=[(X_test, y_test)])"
   ]
  },
  {
   "cell_type": "code",
   "execution_count": 30,
   "metadata": {},
   "outputs": [],
   "source": [
    "y_predict_XGB = XGB_model.predict(X_test)"
   ]
  },
  {
   "cell_type": "code",
   "execution_count": 31,
   "metadata": {},
   "outputs": [
    {
     "name": "stdout",
     "output_type": "stream",
     "text": [
      "[[65880   536]\n",
      " [12819   765]]\n"
     ]
    }
   ],
   "source": [
    "from sklearn.metrics import confusion_matrix\n",
    "confusion_matrix = confusion_matrix(y_test, y_predict_XGB)\n",
    "print(confusion_matrix)"
   ]
  },
  {
   "cell_type": "code",
   "execution_count": 32,
   "metadata": {},
   "outputs": [
    {
     "name": "stdout",
     "output_type": "stream",
     "text": [
      "              precision    recall  f1-score   support\n",
      "\n",
      "           0       0.84      0.99      0.91     66416\n",
      "           1       0.59      0.06      0.10     13584\n",
      "\n",
      "    accuracy                           0.83     80000\n",
      "   macro avg       0.71      0.52      0.51     80000\n",
      "weighted avg       0.79      0.83      0.77     80000\n",
      "\n"
     ]
    }
   ],
   "source": [
    "print(classification_report(y_test, y_predict_XGB))"
   ]
  },
  {
   "cell_type": "code",
   "execution_count": 33,
   "metadata": {},
   "outputs": [
    {
     "name": "stdout",
     "output_type": "stream",
     "text": [
      "ROC AUC: 0.524123\n"
     ]
    }
   ],
   "source": [
    "#AUC\n",
    "auc = roc_auc_score(y_test, y_predict_XGB)\n",
    "print('ROC AUC: %f' % auc)"
   ]
  },
  {
   "cell_type": "markdown",
   "metadata": {},
   "source": [
    "# Multilayer Perceptron"
   ]
  },
  {
   "cell_type": "code",
   "execution_count": 52,
   "metadata": {},
   "outputs": [],
   "source": [
    "# number of times the entire training dataset \n",
    "#is shown to the network during training\n",
    "N_EPOCH = 20 \n",
    "\n",
    "# number of training examples in one \n",
    "#backward/forward pass (before updating weights)\n",
    "BATCH_SIZE = 128 \n",
    "\n",
    "VERBOSE = 1\n",
    "OPTIMIZER = SGD() # Stochastic Gradient Descent optimizer\n",
    "N_HIDDEN = 128 # number of hidden units\n",
    "VALIDATION_SPLIT= 0.2 # proportion of data used for validation\n",
    "INPUT_SHAPE = X_train[1].size\n",
    "\n",
    "# random seed \n",
    "np.random.seed(222) "
   ]
  },
  {
   "cell_type": "code",
   "execution_count": 33,
   "metadata": {},
   "outputs": [],
   "source": [
    "#create model object\n",
    "model = Sequential()\n",
    "\n",
    "# hidden layer 1 with 128 hidden units and ReLu activation function\n",
    "model.add(Dense(N_HIDDEN, input_shape=(INPUT_SHAPE,)))\n",
    "model.add(Activation('relu'))\n",
    "\n",
    "# hidden layer 2 with 128 hidden units and ReLu activation function\n",
    "model.add(Dense(N_HIDDEN))\n",
    "model.add(Activation('relu'))\n",
    "\n",
    "# output layer with 10 units (0-9) and softmax activation\n",
    "model.add(Dense(1))\n",
    "model.add(Activation('sigmoid'))\n",
    "\n",
    "# compilation\n",
    "model.compile(loss='binary_crossentropy', optimizer=OPTIMIZER, metrics=['accuracy'])"
   ]
  },
  {
   "cell_type": "code",
   "execution_count": 34,
   "metadata": {},
   "outputs": [
    {
     "name": "stdout",
     "output_type": "stream",
     "text": [
      "Train on 256000 samples, validate on 64000 samples\n",
      "Epoch 1/20\n",
      "256000/256000 [==============================] - 8s 33us/step - loss: 0.4540 - acc: 0.8284 - val_loss: 0.4451 - val_acc: 0.8298\n",
      "Epoch 2/20\n",
      "256000/256000 [==============================] - 8s 32us/step - loss: 0.4424 - acc: 0.8303 - val_loss: 0.4419 - val_acc: 0.8298\n",
      "Epoch 3/20\n",
      "256000/256000 [==============================] - 8s 31us/step - loss: 0.4397 - acc: 0.8303 - val_loss: 0.4396 - val_acc: 0.8298\n",
      "Epoch 4/20\n",
      "256000/256000 [==============================] - 9s 34us/step - loss: 0.4377 - acc: 0.8303 - val_loss: 0.4377 - val_acc: 0.8298\n",
      "Epoch 5/20\n",
      "256000/256000 [==============================] - 8s 32us/step - loss: 0.4360 - acc: 0.8303 - val_loss: 0.4364 - val_acc: 0.8298\n",
      "Epoch 6/20\n",
      "256000/256000 [==============================] - 8s 32us/step - loss: 0.4346 - acc: 0.8303 - val_loss: 0.4349 - val_acc: 0.8298\n",
      "Epoch 7/20\n",
      "256000/256000 [==============================] - 8s 32us/step - loss: 0.4335 - acc: 0.8303 - val_loss: 0.4338 - val_acc: 0.8298\n",
      "Epoch 8/20\n",
      "256000/256000 [==============================] - 9s 36us/step - loss: 0.4326 - acc: 0.8303 - val_loss: 0.4329 - val_acc: 0.8298\n",
      "Epoch 9/20\n",
      "256000/256000 [==============================] - 8s 32us/step - loss: 0.4318 - acc: 0.8303 - val_loss: 0.4323 - val_acc: 0.8298\n",
      "Epoch 10/20\n",
      "256000/256000 [==============================] - 8s 32us/step - loss: 0.4312 - acc: 0.8303 - val_loss: 0.4317 - val_acc: 0.8298\n",
      "Epoch 11/20\n",
      "256000/256000 [==============================] - 9s 35us/step - loss: 0.4307 - acc: 0.8303 - val_loss: 0.4313 - val_acc: 0.8298\n",
      "Epoch 12/20\n",
      "256000/256000 [==============================] - 9s 34us/step - loss: 0.4303 - acc: 0.8303 - val_loss: 0.4313 - val_acc: 0.8298\n",
      "Epoch 13/20\n",
      "256000/256000 [==============================] - 8s 32us/step - loss: 0.4300 - acc: 0.8303 - val_loss: 0.4306 - val_acc: 0.8300\n",
      "Epoch 14/20\n",
      "256000/256000 [==============================] - 8s 32us/step - loss: 0.4296 - acc: 0.8302 - val_loss: 0.4306 - val_acc: 0.8300\n",
      "Epoch 15/20\n",
      "256000/256000 [==============================] - 8s 33us/step - loss: 0.4294 - acc: 0.8302 - val_loss: 0.4301 - val_acc: 0.8298\n",
      "Epoch 16/20\n",
      "256000/256000 [==============================] - 8s 32us/step - loss: 0.4290 - acc: 0.8304 - val_loss: 0.4300 - val_acc: 0.8298\n",
      "Epoch 17/20\n",
      "256000/256000 [==============================] - 8s 33us/step - loss: 0.4288 - acc: 0.8303 - val_loss: 0.4297 - val_acc: 0.8300\n",
      "Epoch 18/20\n",
      "256000/256000 [==============================] - 8s 33us/step - loss: 0.4285 - acc: 0.8304 - val_loss: 0.4289 - val_acc: 0.8301\n",
      "Epoch 19/20\n",
      "256000/256000 [==============================] - 9s 36us/step - loss: 0.4282 - acc: 0.8305 - val_loss: 0.4288 - val_acc: 0.8300\n",
      "Epoch 20/20\n",
      "256000/256000 [==============================] - 11s 41us/step - loss: 0.4280 - acc: 0.8304 - val_loss: 0.4287 - val_acc: 0.8298\n"
     ]
    }
   ],
   "source": [
    "#train the network\n",
    "history = model.fit(X_train, \n",
    "                    y_train, batch_size=BATCH_SIZE, \n",
    "                    epochs=N_EPOCH, verbose=VERBOSE, \n",
    "                    validation_split=0.2)"
   ]
  },
  {
   "cell_type": "code",
   "execution_count": 35,
   "metadata": {},
   "outputs": [
    {
     "name": "stdout",
     "output_type": "stream",
     "text": [
      "80000/80000 [==============================] - 2s 30us/step\n",
      "\n",
      "Test score/loss: 0.4295063109636307\n",
      "Test accuracy: 0.83025\n"
     ]
    }
   ],
   "source": [
    "#test the network\n",
    "score = model.evaluate(X_test, y_test, verbose=VERBOSE)\n",
    "print(\"\\nTest score/loss:\", score[0])\n",
    "print(\"Test accuracy:\", score[1])"
   ]
  },
  {
   "cell_type": "code",
   "execution_count": 36,
   "metadata": {},
   "outputs": [
    {
     "data": {
      "image/png": "[encoded data removed]",
      "text/plain": [
       "<Figure size 432x288 with 1 Axes>"
      ]
     },
     "metadata": {},
     "output_type": "display_data"
    }
   ],
   "source": [
    "# summarize history for accuracy\n",
    "plt.plot(history.history['acc'])\n",
    "plt.plot(history.history['val_acc'])\n",
    "plt.title('model accuracy')\n",
    "plt.ylabel('accuracy')\n",
    "plt.xlabel('epoch')\n",
    "plt.legend(['train', 'test'], loc='upper left')\n",
    "plt.show()"
   ]
  },
  {
   "cell_type": "code",
   "execution_count": 37,
   "metadata": {},
   "outputs": [
    {
     "data": {
      "image/png": "[encoded data removed]",
      "text/plain": [
       "<Figure size 432x288 with 1 Axes>"
      ]
     },
     "metadata": {},
     "output_type": "display_data"
    }
   ],
   "source": [
    "# summarize history for loss\n",
    "plt.plot(history.history['loss'])\n",
    "plt.plot(history.history['val_loss'])\n",
    "plt.title('model loss')\n",
    "plt.ylabel('loss')\n",
    "plt.xlabel('epoch')\n",
    "plt.legend(['train', 'test'], loc='upper left')\n",
    "plt.show()"
   ]
  },
  {
   "cell_type": "markdown",
   "metadata": {},
   "source": [
    "# Hyperparameter tuning"
   ]
  },
  {
   "cell_type": "markdown",
   "metadata": {},
   "source": [
    "## Number of layers"
   ]
  },
  {
   "cell_type": "code",
   "execution_count": 56,
   "metadata": {},
   "outputs": [
    {
     "name": "stdout",
     "output_type": "stream",
     "text": [
      "Train on 256000 samples, validate on 64000 samples\n",
      "Epoch 1/20\n",
      "256000/256000 [==============================] - 10s 40us/step - loss: 0.4538 - acc: 0.8282 - val_loss: 0.4453 - val_acc: 0.8298\n",
      "Epoch 2/20\n",
      "256000/256000 [==============================] - 12s 45us/step - loss: 0.4426 - acc: 0.8303 - val_loss: 0.4417 - val_acc: 0.8298\n",
      "Epoch 3/20\n",
      "256000/256000 [==============================] - 15s 59us/step - loss: 0.4397 - acc: 0.8303 - val_loss: 0.4390 - val_acc: 0.8298\n",
      "Epoch 4/20\n",
      "256000/256000 [==============================] - 12s 46us/step - loss: 0.4371 - acc: 0.8303 - val_loss: 0.4364 - val_acc: 0.8298\n",
      "Epoch 5/20\n",
      "256000/256000 [==============================] - 13s 49us/step - loss: 0.4348 - acc: 0.8303 - val_loss: 0.4342 - val_acc: 0.8298\n",
      "Epoch 6/20\n",
      "256000/256000 [==============================] - 13s 52us/step - loss: 0.4328 - acc: 0.8303 - val_loss: 0.4328 - val_acc: 0.8298\n",
      "Epoch 7/20\n",
      "256000/256000 [==============================] - 12s 49us/step - loss: 0.4313 - acc: 0.8303 - val_loss: 0.4314 - val_acc: 0.8298\n",
      "Epoch 8/20\n",
      "256000/256000 [==============================] - 13s 49us/step - loss: 0.4302 - acc: 0.8303 - val_loss: 0.4304 - val_acc: 0.8298\n",
      "Epoch 9/20\n",
      "256000/256000 [==============================] - 14s 53us/step - loss: 0.4293 - acc: 0.8303 - val_loss: 0.4293 - val_acc: 0.8298\n",
      "Epoch 10/20\n",
      "256000/256000 [==============================] - 13s 51us/step - loss: 0.4287 - acc: 0.8303 - val_loss: 0.4286 - val_acc: 0.8298\n",
      "Epoch 11/20\n",
      "256000/256000 [==============================] - 14s 56us/step - loss: 0.4281 - acc: 0.8303 - val_loss: 0.4280 - val_acc: 0.8300\n",
      "Epoch 12/20\n",
      "256000/256000 [==============================] - 13s 52us/step - loss: 0.4276 - acc: 0.8302 - val_loss: 0.4274 - val_acc: 0.8301\n",
      "Epoch 13/20\n",
      "256000/256000 [==============================] - 11s 44us/step - loss: 0.4271 - acc: 0.8305 - val_loss: 0.4270 - val_acc: 0.8300\n",
      "Epoch 14/20\n",
      "256000/256000 [==============================] - 12s 48us/step - loss: 0.4268 - acc: 0.8306 - val_loss: 0.4268 - val_acc: 0.8299\n",
      "Epoch 15/20\n",
      "256000/256000 [==============================] - 13s 51us/step - loss: 0.4264 - acc: 0.8309 - val_loss: 0.4263 - val_acc: 0.8305\n",
      "Epoch 16/20\n",
      "256000/256000 [==============================] - 13s 52us/step - loss: 0.4261 - acc: 0.8310 - val_loss: 0.4257 - val_acc: 0.8305\n",
      "Epoch 17/20\n",
      "256000/256000 [==============================] - 12s 46us/step - loss: 0.4258 - acc: 0.8310 - val_loss: 0.4270 - val_acc: 0.8307\n",
      "Epoch 18/20\n",
      "256000/256000 [==============================] - 12s 46us/step - loss: 0.4255 - acc: 0.8311 - val_loss: 0.4254 - val_acc: 0.8301\n",
      "Epoch 19/20\n",
      "256000/256000 [==============================] - 14s 54us/step - loss: 0.4253 - acc: 0.8311 - val_loss: 0.4248 - val_acc: 0.8307\n",
      "Epoch 20/20\n",
      "256000/256000 [==============================] - 13s 52us/step - loss: 0.4250 - acc: 0.8312 - val_loss: 0.4248 - val_acc: 0.8305\n",
      "80000/80000 [==============================] - 3s 40us/step\n",
      "Train on 256000 samples, validate on 64000 samples\n",
      "Epoch 1/20\n",
      "256000/256000 [==============================] - 12s 48us/step - loss: 0.4546 - acc: 0.8295 - val_loss: 0.4448 - val_acc: 0.8298\n",
      "Epoch 2/20\n",
      "256000/256000 [==============================] - 14s 53us/step - loss: 0.4415 - acc: 0.8303 - val_loss: 0.4401 - val_acc: 0.8298\n",
      "Epoch 3/20\n",
      "256000/256000 [==============================] - 13s 51us/step - loss: 0.4375 - acc: 0.8303 - val_loss: 0.4366 - val_acc: 0.8298\n",
      "Epoch 4/20\n",
      "256000/256000 [==============================] - 12s 47us/step - loss: 0.4345 - acc: 0.8303 - val_loss: 0.4340 - val_acc: 0.8298\n",
      "Epoch 5/20\n",
      "256000/256000 [==============================] - 12s 46us/step - loss: 0.4322 - acc: 0.8303 - val_loss: 0.4318 - val_acc: 0.8298\n",
      "Epoch 6/20\n",
      "256000/256000 [==============================] - 11s 45us/step - loss: 0.4306 - acc: 0.8303 - val_loss: 0.4315 - val_acc: 0.8298\n",
      "Epoch 7/20\n",
      "256000/256000 [==============================] - 11s 42us/step - loss: 0.4293 - acc: 0.8303 - val_loss: 0.4295 - val_acc: 0.8298\n",
      "Epoch 8/20\n",
      "256000/256000 [==============================] - 12s 46us/step - loss: 0.4284 - acc: 0.8303 - val_loss: 0.4285 - val_acc: 0.8298\n",
      "Epoch 9/20\n",
      "256000/256000 [==============================] - 12s 49us/step - loss: 0.4276 - acc: 0.8303 - val_loss: 0.4274 - val_acc: 0.8298\n",
      "Epoch 10/20\n",
      "256000/256000 [==============================] - 12s 47us/step - loss: 0.4270 - acc: 0.8303 - val_loss: 0.4267 - val_acc: 0.8298\n",
      "Epoch 11/20\n",
      "256000/256000 [==============================] - 12s 48us/step - loss: 0.4265 - acc: 0.8303 - val_loss: 0.4263 - val_acc: 0.8299\n",
      "Epoch 12/20\n",
      "256000/256000 [==============================] - 12s 45us/step - loss: 0.4261 - acc: 0.8304 - val_loss: 0.4259 - val_acc: 0.8300\n",
      "Epoch 13/20\n",
      "256000/256000 [==============================] - 12s 48us/step - loss: 0.4256 - acc: 0.8305 - val_loss: 0.4258 - val_acc: 0.8300\n",
      "Epoch 14/20\n",
      "256000/256000 [==============================] - 12s 47us/step - loss: 0.4252 - acc: 0.8306 - val_loss: 0.4260 - val_acc: 0.8301\n",
      "Epoch 15/20\n",
      "256000/256000 [==============================] - 12s 47us/step - loss: 0.4249 - acc: 0.8310 - val_loss: 0.4248 - val_acc: 0.8303\n",
      "Epoch 16/20\n",
      "256000/256000 [==============================] - 12s 49us/step - loss: 0.4246 - acc: 0.8310 - val_loss: 0.4247 - val_acc: 0.8300\n",
      "Epoch 17/20\n",
      "256000/256000 [==============================] - 12s 48us/step - loss: 0.4244 - acc: 0.8311 - val_loss: 0.4241 - val_acc: 0.8303\n",
      "Epoch 18/20\n",
      "256000/256000 [==============================] - 12s 49us/step - loss: 0.4241 - acc: 0.8311 - val_loss: 0.4242 - val_acc: 0.8302\n",
      "Epoch 19/20\n",
      "256000/256000 [==============================] - 14s 53us/step - loss: 0.4239 - acc: 0.8313 - val_loss: 0.4237 - val_acc: 0.8303\n",
      "Epoch 20/20\n",
      "256000/256000 [==============================] - 13s 52us/step - loss: 0.4236 - acc: 0.8310 - val_loss: 0.4237 - val_acc: 0.8303\n",
      "80000/80000 [==============================] - 3s 42us/step\n"
     ]
    }
   ],
   "source": [
    "N_LAYERS = [2,3] #in addition to first hidden layer and output layer\n",
    "test_score = []\n",
    "test_accuracy = []    \n",
    "  \n",
    "for i in N_LAYERS:\n",
    "    \n",
    "    model = Sequential()\n",
    "    \n",
    "    # Hidden layer 1 which reshapes the input\n",
    "    model.add(Dense(N_HIDDEN, input_shape=(INPUT_SHAPE,)))\n",
    "    model.add(Activation('relu'))\n",
    "    \n",
    "    #loop to add i layers with ReLU activation function\n",
    "    for j in range(i):\n",
    "            model.add(Dense(N_HIDDEN))\n",
    "            model.add(Activation('relu'))\n",
    "\n",
    "    # output layer with 10 units and softmax activation\n",
    "    model.add(Dense(1))\n",
    "    model.add(Activation('sigmoid'))\n",
    "    \n",
    "    # compilation\n",
    "    model.compile(loss='binary_crossentropy', \n",
    "                  optimizer=OPTIMIZER, metrics=['accuracy'])\n",
    "    \n",
    "    history = model.fit(X_train, y_train, \n",
    "                        batch_size=BATCH_SIZE, epochs=N_EPOCH, \n",
    "                        verbose=VERBOSE, \n",
    "                        validation_split=0.2)\n",
    "\n",
    "    score = model.evaluate(X_test, y_test, \n",
    "                           verbose=VERBOSE)\n",
    "    test_score.append(score[0])\n",
    "    test_accuracy.append(score[1])"
   ]
  },
  {
   "cell_type": "code",
   "execution_count": 57,
   "metadata": {},
   "outputs": [
    {
     "name": "stdout",
     "output_type": "stream",
     "text": [
      "\n",
      "Using 3 hidden layers gave:\n",
      "Test score/loss 0.42619715408682823\n",
      "Test accuracy: 0.8310125\n",
      "\n",
      "Using 4 hidden layers gave:\n",
      "Test score/loss 0.4251708738267422\n",
      "Test accuracy: 0.830975\n"
     ]
    }
   ],
   "source": [
    "for i in range(len(N_LAYERS)):\n",
    "    print(\"\\nUsing \" + str(N_LAYERS[i]+1) + \" hidden layers gave:\")\n",
    "    print(\"Test score/loss\", test_score[i])\n",
    "    print(\"Test accuracy:\", test_accuracy[i])"
   ]
  },
  {
   "cell_type": "markdown",
   "metadata": {},
   "source": [
    "## Hyperparameter tuning: Dropout"
   ]
  },
  {
   "cell_type": "code",
   "execution_count": 58,
   "metadata": {},
   "outputs": [
    {
     "name": "stdout",
     "output_type": "stream",
     "text": [
      "Train on 256000 samples, validate on 64000 samples\n",
      "Epoch 1/20\n",
      "256000/256000 [==============================] - 11s 43us/step - loss: 0.4559 - acc: 0.8281 - val_loss: 0.4460 - val_acc: 0.8298\n",
      "Epoch 2/20\n",
      "256000/256000 [==============================] - 10s 40us/step - loss: 0.4451 - acc: 0.8303 - val_loss: 0.4428 - val_acc: 0.8298\n",
      "Epoch 3/20\n",
      "256000/256000 [==============================] - 11s 41us/step - loss: 0.4425 - acc: 0.8303 - val_loss: 0.4408 - val_acc: 0.8298\n",
      "Epoch 4/20\n",
      "256000/256000 [==============================] - 11s 43us/step - loss: 0.4406 - acc: 0.8303 - val_loss: 0.4389 - val_acc: 0.8298\n",
      "Epoch 5/20\n",
      "256000/256000 [==============================] - 10s 40us/step - loss: 0.4390 - acc: 0.8303 - val_loss: 0.4372 - val_acc: 0.8298\n",
      "Epoch 6/20\n",
      "256000/256000 [==============================] - 10s 39us/step - loss: 0.4373 - acc: 0.8303 - val_loss: 0.4357 - val_acc: 0.8298\n",
      "Epoch 7/20\n",
      "256000/256000 [==============================] - 10s 41us/step - loss: 0.4361 - acc: 0.8303 - val_loss: 0.4345 - val_acc: 0.8298\n",
      "Epoch 8/20\n",
      "256000/256000 [==============================] - 10s 39us/step - loss: 0.4350 - acc: 0.8303 - val_loss: 0.4334 - val_acc: 0.8298\n",
      "Epoch 9/20\n",
      "256000/256000 [==============================] - 11s 42us/step - loss: 0.4341 - acc: 0.8303 - val_loss: 0.4325 - val_acc: 0.8298\n",
      "Epoch 10/20\n",
      "256000/256000 [==============================] - 10s 40us/step - loss: 0.4333 - acc: 0.8303 - val_loss: 0.4318 - val_acc: 0.8298\n",
      "Epoch 11/20\n",
      "256000/256000 [==============================] - 9s 36us/step - loss: 0.4326 - acc: 0.8303 - val_loss: 0.4312 - val_acc: 0.8298\n",
      "Epoch 12/20\n",
      "256000/256000 [==============================] - 10s 41us/step - loss: 0.4323 - acc: 0.8303 - val_loss: 0.4307 - val_acc: 0.8298\n",
      "Epoch 13/20\n",
      "256000/256000 [==============================] - 10s 38us/step - loss: 0.4317 - acc: 0.8303 - val_loss: 0.4302 - val_acc: 0.8298\n",
      "Epoch 14/20\n",
      "256000/256000 [==============================] - 11s 43us/step - loss: 0.4313 - acc: 0.8303 - val_loss: 0.4299 - val_acc: 0.8298\n",
      "Epoch 15/20\n",
      "256000/256000 [==============================] - 9s 37us/step - loss: 0.4308 - acc: 0.8303 - val_loss: 0.4293 - val_acc: 0.8298\n",
      "Epoch 16/20\n",
      "256000/256000 [==============================] - 11s 41us/step - loss: 0.4305 - acc: 0.8303 - val_loss: 0.4292 - val_acc: 0.8298\n",
      "Epoch 17/20\n",
      "256000/256000 [==============================] - 12s 46us/step - loss: 0.4303 - acc: 0.8303 - val_loss: 0.4289 - val_acc: 0.8298\n",
      "Epoch 18/20\n",
      "256000/256000 [==============================] - 9s 36us/step - loss: 0.4298 - acc: 0.8303 - val_loss: 0.4286 - val_acc: 0.8298\n",
      "Epoch 19/20\n",
      "256000/256000 [==============================] - 9s 34us/step - loss: 0.4296 - acc: 0.8304 - val_loss: 0.4282 - val_acc: 0.8298\n",
      "Epoch 20/20\n",
      "256000/256000 [==============================] - 10s 37us/step - loss: 0.4293 - acc: 0.8303 - val_loss: 0.4279 - val_acc: 0.8298\n",
      "80000/80000 [==============================] - 2s 27us/step\n",
      "Train on 256000 samples, validate on 64000 samples\n",
      "Epoch 1/20\n",
      "256000/256000 [==============================] - 12s 46us/step - loss: 0.4597 - acc: 0.8278 - val_loss: 0.4468 - val_acc: 0.8298\n",
      "Epoch 2/20\n",
      "256000/256000 [==============================] - 12s 48us/step - loss: 0.4467 - acc: 0.8303 - val_loss: 0.4437 - val_acc: 0.8298\n",
      "Epoch 3/20\n",
      "256000/256000 [==============================] - 12s 48us/step - loss: 0.4439 - acc: 0.8303 - val_loss: 0.4417 - val_acc: 0.8298\n",
      "Epoch 4/20\n",
      "256000/256000 [==============================] - 10s 40us/step - loss: 0.4419 - acc: 0.8303 - val_loss: 0.4401 - val_acc: 0.8298\n",
      "Epoch 5/20\n",
      "256000/256000 [==============================] - 10s 39us/step - loss: 0.4405 - acc: 0.8303 - val_loss: 0.4385 - val_acc: 0.8298\n",
      "Epoch 6/20\n",
      "256000/256000 [==============================] - 9s 34us/step - loss: 0.4393 - acc: 0.8303 - val_loss: 0.4371 - val_acc: 0.8298\n",
      "Epoch 7/20\n",
      "256000/256000 [==============================] - 9s 34us/step - loss: 0.4380 - acc: 0.8303 - val_loss: 0.4361 - val_acc: 0.8298\n",
      "Epoch 8/20\n",
      "256000/256000 [==============================] - 9s 34us/step - loss: 0.4368 - acc: 0.8303 - val_loss: 0.4350 - val_acc: 0.8298\n",
      "Epoch 9/20\n",
      "256000/256000 [==============================] - 8s 33us/step - loss: 0.4360 - acc: 0.8303 - val_loss: 0.4341 - val_acc: 0.8298\n",
      "Epoch 10/20\n",
      "256000/256000 [==============================] - 9s 33us/step - loss: 0.4352 - acc: 0.8303 - val_loss: 0.4332 - val_acc: 0.8298\n",
      "Epoch 11/20\n",
      "256000/256000 [==============================] - 9s 34us/step - loss: 0.4346 - acc: 0.8303 - val_loss: 0.4325 - val_acc: 0.8298\n",
      "Epoch 12/20\n",
      "256000/256000 [==============================] - 9s 34us/step - loss: 0.4338 - acc: 0.8303 - val_loss: 0.4320 - val_acc: 0.8298\n",
      "Epoch 13/20\n",
      "256000/256000 [==============================] - 12s 47us/step - loss: 0.4333 - acc: 0.8303 - val_loss: 0.4313 - val_acc: 0.8298\n",
      "Epoch 14/20\n",
      "256000/256000 [==============================] - 12s 46us/step - loss: 0.4325 - acc: 0.8303 - val_loss: 0.4308 - val_acc: 0.8298\n",
      "Epoch 15/20\n",
      "256000/256000 [==============================] - 12s 47us/step - loss: 0.4323 - acc: 0.8303 - val_loss: 0.4305 - val_acc: 0.8298\n",
      "Epoch 16/20\n",
      "256000/256000 [==============================] - 13s 49us/step - loss: 0.4321 - acc: 0.8303 - val_loss: 0.4300 - val_acc: 0.8298\n",
      "Epoch 17/20\n",
      "256000/256000 [==============================] - 11s 41us/step - loss: 0.4313 - acc: 0.8303 - val_loss: 0.4297 - val_acc: 0.8298\n",
      "Epoch 18/20\n",
      "256000/256000 [==============================] - 11s 42us/step - loss: 0.4310 - acc: 0.8303 - val_loss: 0.4293 - val_acc: 0.8298\n",
      "Epoch 19/20\n",
      "256000/256000 [==============================] - 11s 43us/step - loss: 0.4309 - acc: 0.8302 - val_loss: 0.4290 - val_acc: 0.8298\n",
      "Epoch 20/20\n",
      "256000/256000 [==============================] - 12s 46us/step - loss: 0.4303 - acc: 0.8303 - val_loss: 0.4286 - val_acc: 0.8298\n",
      "80000/80000 [==============================] - 3s 37us/step\n",
      "Train on 256000 samples, validate on 64000 samples\n",
      "Epoch 1/20\n",
      "256000/256000 [==============================] - 12s 46us/step - loss: 0.4588 - acc: 0.8290 - val_loss: 0.4456 - val_acc: 0.8298\n",
      "Epoch 2/20\n",
      "256000/256000 [==============================] - 11s 43us/step - loss: 0.4469 - acc: 0.8303 - val_loss: 0.4424 - val_acc: 0.8298\n",
      "Epoch 3/20\n",
      "256000/256000 [==============================] - 13s 51us/step - loss: 0.4440 - acc: 0.8303 - val_loss: 0.4405 - val_acc: 0.8298\n",
      "Epoch 4/20\n",
      "256000/256000 [==============================] - 14s 54us/step - loss: 0.4426 - acc: 0.8303 - val_loss: 0.4389 - val_acc: 0.8298\n",
      "Epoch 5/20\n",
      "256000/256000 [==============================] - 12s 47us/step - loss: 0.4409 - acc: 0.8303 - val_loss: 0.4377 - val_acc: 0.8298\n",
      "Epoch 6/20\n",
      "256000/256000 [==============================] - 14s 56us/step - loss: 0.4394 - acc: 0.8303 - val_loss: 0.4365 - val_acc: 0.8298\n",
      "Epoch 7/20\n",
      "256000/256000 [==============================] - 13s 50us/step - loss: 0.4382 - acc: 0.8303 - val_loss: 0.4355 - val_acc: 0.8298\n",
      "Epoch 8/20\n",
      "256000/256000 [==============================] - 13s 50us/step - loss: 0.4374 - acc: 0.8303 - val_loss: 0.4347 - val_acc: 0.8298\n",
      "Epoch 9/20\n",
      "256000/256000 [==============================] - 14s 56us/step - loss: 0.4366 - acc: 0.8303 - val_loss: 0.4337 - val_acc: 0.8298\n",
      "Epoch 10/20\n",
      "256000/256000 [==============================] - 14s 56us/step - loss: 0.4358 - acc: 0.8303 - val_loss: 0.4330 - val_acc: 0.8298\n",
      "Epoch 11/20\n",
      "256000/256000 [==============================] - 14s 54us/step - loss: 0.4351 - acc: 0.8303 - val_loss: 0.4322 - val_acc: 0.8298\n",
      "Epoch 12/20\n",
      "256000/256000 [==============================] - 15s 59us/step - loss: 0.4346 - acc: 0.8303 - val_loss: 0.4316 - val_acc: 0.8298\n",
      "Epoch 13/20\n",
      "256000/256000 [==============================] - 15s 57us/step - loss: 0.4338 - acc: 0.8303 - val_loss: 0.4310 - val_acc: 0.8298\n",
      "Epoch 14/20\n",
      "256000/256000 [==============================] - 15s 60us/step - loss: 0.4336 - acc: 0.8303 - val_loss: 0.4306 - val_acc: 0.8298\n",
      "Epoch 15/20\n",
      "256000/256000 [==============================] - 14s 54us/step - loss: 0.4332 - acc: 0.8303 - val_loss: 0.4304 - val_acc: 0.8298\n",
      "Epoch 16/20\n",
      "256000/256000 [==============================] - 14s 53us/step - loss: 0.4327 - acc: 0.8303 - val_loss: 0.4299 - val_acc: 0.8298\n",
      "Epoch 17/20\n",
      "256000/256000 [==============================] - 16s 62us/step - loss: 0.4324 - acc: 0.8303 - val_loss: 0.4296 - val_acc: 0.8298\n",
      "Epoch 18/20\n",
      "256000/256000 [==============================] - 12s 48us/step - loss: 0.4322 - acc: 0.8303 - val_loss: 0.4291 - val_acc: 0.8298\n",
      "Epoch 19/20\n",
      "256000/256000 [==============================] - 12s 45us/step - loss: 0.4317 - acc: 0.8303 - val_loss: 0.4291 - val_acc: 0.8298\n",
      "Epoch 20/20\n",
      "256000/256000 [==============================] - 11s 43us/step - loss: 0.4314 - acc: 0.8303 - val_loss: 0.4285 - val_acc: 0.8298\n",
      "80000/80000 [==============================] - 3s 41us/step\n",
      "Train on 256000 samples, validate on 64000 samples\n",
      "Epoch 1/20\n",
      "256000/256000 [==============================] - 13s 50us/step - loss: 0.4617 - acc: 0.8286 - val_loss: 0.4472 - val_acc: 0.8298\n",
      "Epoch 2/20\n",
      "256000/256000 [==============================] - 12s 45us/step - loss: 0.4499 - acc: 0.8303 - val_loss: 0.4450 - val_acc: 0.8298\n",
      "Epoch 3/20\n",
      "256000/256000 [==============================] - 12s 47us/step - loss: 0.4468 - acc: 0.8303 - val_loss: 0.4428 - val_acc: 0.8298\n",
      "Epoch 4/20\n",
      "256000/256000 [==============================] - 11s 45us/step - loss: 0.4449 - acc: 0.8303 - val_loss: 0.4414 - val_acc: 0.8298\n",
      "Epoch 5/20\n",
      "256000/256000 [==============================] - 12s 49us/step - loss: 0.4429 - acc: 0.8303 - val_loss: 0.4401 - val_acc: 0.8298\n",
      "Epoch 6/20\n",
      "256000/256000 [==============================] - 11s 42us/step - loss: 0.4419 - acc: 0.8303 - val_loss: 0.4388 - val_acc: 0.8298\n",
      "Epoch 7/20\n",
      "256000/256000 [==============================] - 15s 59us/step - loss: 0.4405 - acc: 0.8303 - val_loss: 0.4377 - val_acc: 0.8298\n",
      "Epoch 8/20\n",
      "256000/256000 [==============================] - 13s 51us/step - loss: 0.4397 - acc: 0.8303 - val_loss: 0.4369 - val_acc: 0.8298\n",
      "Epoch 9/20\n",
      "256000/256000 [==============================] - 11s 44us/step - loss: 0.4384 - acc: 0.8303 - val_loss: 0.4357 - val_acc: 0.8298\n",
      "Epoch 10/20\n",
      "256000/256000 [==============================] - 11s 45us/step - loss: 0.4378 - acc: 0.8303 - val_loss: 0.4349 - val_acc: 0.8298\n",
      "Epoch 11/20\n",
      "256000/256000 [==============================] - 11s 45us/step - loss: 0.4371 - acc: 0.8303 - val_loss: 0.4339 - val_acc: 0.8298\n",
      "Epoch 12/20\n",
      "256000/256000 [==============================] - 12s 46us/step - loss: 0.4364 - acc: 0.8303 - val_loss: 0.4332 - val_acc: 0.8298\n",
      "Epoch 13/20\n",
      "256000/256000 [==============================] - 11s 44us/step - loss: 0.4355 - acc: 0.8303 - val_loss: 0.4326 - val_acc: 0.8298\n",
      "Epoch 14/20\n",
      "256000/256000 [==============================] - 12s 47us/step - loss: 0.4351 - acc: 0.8303 - val_loss: 0.4318 - val_acc: 0.8298\n",
      "Epoch 15/20\n",
      "256000/256000 [==============================] - 12s 46us/step - loss: 0.4345 - acc: 0.8303 - val_loss: 0.4314 - val_acc: 0.8298\n",
      "Epoch 16/20\n",
      "256000/256000 [==============================] - 15s 58us/step - loss: 0.4340 - acc: 0.8303 - val_loss: 0.4310 - val_acc: 0.8298\n",
      "Epoch 17/20\n",
      "256000/256000 [==============================] - 12s 48us/step - loss: 0.4334 - acc: 0.8303 - val_loss: 0.4304 - val_acc: 0.8298\n",
      "Epoch 18/20\n",
      "256000/256000 [==============================] - 12s 48us/step - loss: 0.4334 - acc: 0.8303 - val_loss: 0.4300 - val_acc: 0.8298\n",
      "Epoch 19/20\n",
      "256000/256000 [==============================] - 11s 43us/step - loss: 0.4330 - acc: 0.8303 - val_loss: 0.4298 - val_acc: 0.8298\n",
      "Epoch 20/20\n",
      "256000/256000 [==============================] - 14s 56us/step - loss: 0.4325 - acc: 0.8303 - val_loss: 0.4293 - val_acc: 0.8298\n",
      "80000/80000 [==============================] - 4s 44us/step\n",
      "Train on 256000 samples, validate on 64000 samples\n",
      "Epoch 1/20\n",
      "256000/256000 [==============================] - 15s 58us/step - loss: 0.4639 - acc: 0.8286 - val_loss: 0.4471 - val_acc: 0.8298\n",
      "Epoch 2/20\n",
      "256000/256000 [==============================] - 16s 63us/step - loss: 0.4509 - acc: 0.8303 - val_loss: 0.4449 - val_acc: 0.8298\n",
      "Epoch 3/20\n",
      "256000/256000 [==============================] - 12s 47us/step - loss: 0.4480 - acc: 0.8303 - val_loss: 0.4434 - val_acc: 0.8298\n",
      "Epoch 4/20\n",
      "256000/256000 [==============================] - 12s 48us/step - loss: 0.4461 - acc: 0.8303 - val_loss: 0.4423 - val_acc: 0.8298\n",
      "Epoch 5/20\n",
      "256000/256000 [==============================] - 12s 47us/step - loss: 0.4445 - acc: 0.8303 - val_loss: 0.4415 - val_acc: 0.8298\n",
      "Epoch 6/20\n",
      "256000/256000 [==============================] - 13s 52us/step - loss: 0.4429 - acc: 0.8303 - val_loss: 0.4400 - val_acc: 0.8298\n",
      "Epoch 7/20\n",
      "256000/256000 [==============================] - 14s 54us/step - loss: 0.4421 - acc: 0.8303 - val_loss: 0.4390 - val_acc: 0.8298\n",
      "Epoch 8/20\n",
      "256000/256000 [==============================] - 14s 56us/step - loss: 0.4412 - acc: 0.8303 - val_loss: 0.4381 - val_acc: 0.8298\n",
      "Epoch 9/20\n",
      "256000/256000 [==============================] - 14s 56us/step - loss: 0.4403 - acc: 0.8303 - val_loss: 0.4373 - val_acc: 0.8298\n",
      "Epoch 10/20\n",
      "256000/256000 [==============================] - 13s 52us/step - loss: 0.4395 - acc: 0.8303 - val_loss: 0.4367 - val_acc: 0.8298\n",
      "Epoch 11/20\n",
      "256000/256000 [==============================] - 14s 54us/step - loss: 0.4388 - acc: 0.8303 - val_loss: 0.4355 - val_acc: 0.8298\n",
      "Epoch 12/20\n",
      "256000/256000 [==============================] - 12s 48us/step - loss: 0.4380 - acc: 0.8303 - val_loss: 0.4352 - val_acc: 0.8298\n",
      "Epoch 13/20\n",
      "256000/256000 [==============================] - 14s 53us/step - loss: 0.4375 - acc: 0.8303 - val_loss: 0.4344 - val_acc: 0.8298\n",
      "Epoch 14/20\n",
      "256000/256000 [==============================] - 14s 55us/step - loss: 0.4368 - acc: 0.8303 - val_loss: 0.4335 - val_acc: 0.8298\n",
      "Epoch 15/20\n",
      "256000/256000 [==============================] - 13s 50us/step - loss: 0.4360 - acc: 0.8303 - val_loss: 0.4333 - val_acc: 0.8298\n",
      "Epoch 16/20\n",
      "256000/256000 [==============================] - 13s 52us/step - loss: 0.4357 - acc: 0.8303 - val_loss: 0.4324 - val_acc: 0.8298\n",
      "Epoch 17/20\n",
      "256000/256000 [==============================] - 11s 42us/step - loss: 0.4356 - acc: 0.8303 - val_loss: 0.4321 - val_acc: 0.8298\n",
      "Epoch 18/20\n",
      "256000/256000 [==============================] - 13s 49us/step - loss: 0.4347 - acc: 0.8303 - val_loss: 0.4313 - val_acc: 0.8298\n",
      "Epoch 19/20\n",
      "256000/256000 [==============================] - 14s 55us/step - loss: 0.4341 - acc: 0.8303 - val_loss: 0.4309 - val_acc: 0.8298\n",
      "Epoch 20/20\n",
      "256000/256000 [==============================] - 11s 45us/step - loss: 0.4340 - acc: 0.8303 - val_loss: 0.4305 - val_acc: 0.8298\n",
      "80000/80000 [==============================] - 2s 28us/step\n"
     ]
    }
   ],
   "source": [
    "#create vector to hold the dropout percentages we want to try\n",
    "P_DROPOUT = [0.1, 0.2, 0.3, 0.4, 0.5]\n",
    "test_score = []\n",
    "test_accuracy = []\n",
    "\n",
    "for i in P_DROPOUT:\n",
    "    model = Sequential()\n",
    "\n",
    "    # Hidden layer 1 with 128 hidden units and ReLu activation function\n",
    "    model.add(Dense(N_HIDDEN, input_shape=(INPUT_SHAPE,)))\n",
    "    model.add(Activation('relu'))\n",
    "    model.add(Dropout(i))\n",
    "\n",
    "    # Hidden layer 2 with 128 hidden units and ReLu activation function\n",
    "    model.add(Dense(N_HIDDEN))\n",
    "    model.add(Activation('relu'))\n",
    "    model.add(Dropout(i))\n",
    "    \n",
    "    # Hidden layer 3 with 128 hidden units and ReLu activation function\n",
    "    model.add(Dense(N_HIDDEN))\n",
    "    model.add(Activation('relu'))\n",
    "    model.add(Dropout(i))\n",
    "    \n",
    "    # Hidden layer 4 with 128 hidden units and ReLu activation function\n",
    "    model.add(Dense(N_HIDDEN))\n",
    "    model.add(Activation('relu'))\n",
    "    model.add(Dropout(i))\n",
    "\n",
    "    # output layer with 10 units and softmax activation\n",
    "    model.add(Dense(1))\n",
    "    model.add(Activation('sigmoid'))\n",
    "\n",
    "    # compilation\n",
    "    model.compile(loss='binary_crossentropy', \n",
    "                  optimizer=OPTIMIZER, metrics=['accuracy'])\n",
    "    \n",
    "    #train the network\n",
    "    history = model.fit(X_train, y_train, \n",
    "                        batch_size=BATCH_SIZE, epochs=N_EPOCH, \n",
    "                        verbose=VERBOSE, validation_split=VALIDATION_SPLIT)\n",
    "\n",
    "    score = model.evaluate(X_test, \n",
    "                           y_test, verbose=VERBOSE)\n",
    "    \n",
    "    test_score.append(score[0])\n",
    "    test_accuracy.append(score[1])"
   ]
  },
  {
   "cell_type": "code",
   "execution_count": 59,
   "metadata": {},
   "outputs": [
    {
     "name": "stdout",
     "output_type": "stream",
     "text": [
      "\n",
      "Using dropout rate 0.1 gave:\n",
      "Test score/loss 0.4291415367603302\n",
      "Test accuracy: 0.8302\n",
      "\n",
      "Using dropout rate 0.2 gave:\n",
      "Test score/loss 0.4295531588256359\n",
      "Test accuracy: 0.8302\n",
      "\n",
      "Using dropout rate 0.3 gave:\n",
      "Test score/loss 0.4295654796898365\n",
      "Test accuracy: 0.8302\n",
      "\n",
      "Using dropout rate 0.4 gave:\n",
      "Test score/loss 0.43023219926953316\n",
      "Test accuracy: 0.8302\n",
      "\n",
      "Using dropout rate 0.5 gave:\n",
      "Test score/loss 0.43101088473796845\n",
      "Test accuracy: 0.8302\n"
     ]
    }
   ],
   "source": [
    "for i in range(len(P_DROPOUT)):\n",
    "    print(\"\\nUsing dropout rate \" + str(P_DROPOUT[i]) + \" gave:\")\n",
    "    print(\"Test score/loss\", test_score[i])\n",
    "    print(\"Test accuracy:\", test_accuracy[i])"
   ]
  },
  {
   "cell_type": "markdown",
   "metadata": {},
   "source": [
    "## Hyperparameter tuning: Learning rate"
   ]
  },
  {
   "cell_type": "code",
   "execution_count": 60,
   "metadata": {},
   "outputs": [
    {
     "name": "stdout",
     "output_type": "stream",
     "text": [
      "Train on 256000 samples, validate on 64000 samples\n",
      "Epoch 1/20\n",
      "256000/256000 [==============================] - 11s 43us/step - loss: 0.4388 - acc: 0.8303 - val_loss: 0.4323 - val_acc: 0.8298\n",
      "Epoch 2/20\n",
      "256000/256000 [==============================] - 8s 33us/step - loss: 0.4310 - acc: 0.8303 - val_loss: 0.4324 - val_acc: 0.8299\n",
      "Epoch 3/20\n",
      "256000/256000 [==============================] - 8s 32us/step - loss: 0.4289 - acc: 0.8306 - val_loss: 0.4313 - val_acc: 0.8289\n",
      "Epoch 4/20\n",
      "256000/256000 [==============================] - 9s 35us/step - loss: 0.4274 - acc: 0.8309 - val_loss: 0.4265 - val_acc: 0.8301\n",
      "Epoch 5/20\n",
      "256000/256000 [==============================] - 9s 34us/step - loss: 0.4264 - acc: 0.8310 - val_loss: 0.4273 - val_acc: 0.8303\n",
      "Epoch 6/20\n",
      "256000/256000 [==============================] - 9s 37us/step - loss: 0.4255 - acc: 0.8311 - val_loss: 0.4284 - val_acc: 0.8303\n",
      "Epoch 7/20\n",
      "256000/256000 [==============================] - 11s 42us/step - loss: 0.4249 - acc: 0.8312 - val_loss: 0.4240 - val_acc: 0.8306\n",
      "Epoch 8/20\n",
      "256000/256000 [==============================] - 9s 36us/step - loss: 0.4243 - acc: 0.8314 - val_loss: 0.4230 - val_acc: 0.8309\n",
      "Epoch 9/20\n",
      "256000/256000 [==============================] - 9s 35us/step - loss: 0.4238 - acc: 0.8314 - val_loss: 0.4259 - val_acc: 0.8303\n",
      "Epoch 10/20\n",
      "256000/256000 [==============================] - 10s 37us/step - loss: 0.4234 - acc: 0.8313 - val_loss: 0.4218 - val_acc: 0.8306\n",
      "Epoch 11/20\n",
      "256000/256000 [==============================] - 10s 40us/step - loss: 0.4228 - acc: 0.8315 - val_loss: 0.4253 - val_acc: 0.8312\n",
      "Epoch 12/20\n",
      "256000/256000 [==============================] - 8s 32us/step - loss: 0.4224 - acc: 0.8315 - val_loss: 0.4221 - val_acc: 0.8311\n",
      "Epoch 13/20\n",
      "256000/256000 [==============================] - 8s 33us/step - loss: 0.4221 - acc: 0.8316 - val_loss: 0.4209 - val_acc: 0.8306\n",
      "Epoch 14/20\n",
      "256000/256000 [==============================] - 9s 34us/step - loss: 0.4216 - acc: 0.8316 - val_loss: 0.4218 - val_acc: 0.8309\n",
      "Epoch 15/20\n",
      "256000/256000 [==============================] - 9s 34us/step - loss: 0.4215 - acc: 0.8319 - val_loss: 0.4272 - val_acc: 0.8305\n",
      "Epoch 16/20\n",
      "256000/256000 [==============================] - 9s 36us/step - loss: 0.4213 - acc: 0.8316 - val_loss: 0.4204 - val_acc: 0.8310\n",
      "Epoch 17/20\n",
      "256000/256000 [==============================] - 10s 38us/step - loss: 0.4209 - acc: 0.8316 - val_loss: 0.4216 - val_acc: 0.8312\n",
      "Epoch 18/20\n",
      "256000/256000 [==============================] - 9s 35us/step - loss: 0.4208 - acc: 0.8316 - val_loss: 0.4215 - val_acc: 0.8308\n",
      "Epoch 19/20\n",
      "256000/256000 [==============================] - 9s 35us/step - loss: 0.4204 - acc: 0.8316 - val_loss: 0.4204 - val_acc: 0.8316\n",
      "Epoch 20/20\n",
      "256000/256000 [==============================] - 9s 37us/step - loss: 0.4201 - acc: 0.8318 - val_loss: 0.4210 - val_acc: 0.8313\n",
      "80000/80000 [==============================] - 2s 31us/step\n",
      "Train on 256000 samples, validate on 64000 samples\n",
      "Epoch 1/20\n",
      "256000/256000 [==============================] - 10s 40us/step - loss: 0.4360 - acc: 0.8300 - val_loss: 0.4328 - val_acc: 0.8300\n",
      "Epoch 2/20\n",
      "256000/256000 [==============================] - 8s 31us/step - loss: 0.4294 - acc: 0.8305 - val_loss: 0.4275 - val_acc: 0.8298\n",
      "Epoch 3/20\n",
      "256000/256000 [==============================] - 8s 30us/step - loss: 0.4274 - acc: 0.8308 - val_loss: 0.4258 - val_acc: 0.8298\n",
      "Epoch 4/20\n",
      "256000/256000 [==============================] - 8s 32us/step - loss: 0.4259 - acc: 0.8310 - val_loss: 0.4257 - val_acc: 0.8304\n",
      "Epoch 5/20\n",
      "256000/256000 [==============================] - 7s 29us/step - loss: 0.4252 - acc: 0.8312 - val_loss: 0.4288 - val_acc: 0.8307\n",
      "Epoch 6/20\n",
      "256000/256000 [==============================] - 10s 38us/step - loss: 0.4243 - acc: 0.8312 - val_loss: 0.4280 - val_acc: 0.8306\n",
      "Epoch 7/20\n",
      "256000/256000 [==============================] - 10s 39us/step - loss: 0.4238 - acc: 0.8314 - val_loss: 0.4226 - val_acc: 0.8311\n",
      "Epoch 8/20\n",
      "256000/256000 [==============================] - 9s 36us/step - loss: 0.4229 - acc: 0.8315 - val_loss: 0.4284 - val_acc: 0.8303\n",
      "Epoch 9/20\n",
      "256000/256000 [==============================] - 9s 35us/step - loss: 0.4225 - acc: 0.8316 - val_loss: 0.4218 - val_acc: 0.8307\n",
      "Epoch 10/20\n",
      "256000/256000 [==============================] - 9s 37us/step - loss: 0.4219 - acc: 0.8316 - val_loss: 0.4232 - val_acc: 0.8289\n",
      "Epoch 11/20\n",
      "256000/256000 [==============================] - 9s 34us/step - loss: 0.4215 - acc: 0.8317 - val_loss: 0.4207 - val_acc: 0.8314\n",
      "Epoch 12/20\n",
      "256000/256000 [==============================] - 12s 45us/step - loss: 0.4210 - acc: 0.8318 - val_loss: 0.4245 - val_acc: 0.8308\n",
      "Epoch 13/20\n",
      "256000/256000 [==============================] - 13s 49us/step - loss: 0.4208 - acc: 0.8317 - val_loss: 0.4211 - val_acc: 0.8309\n",
      "Epoch 14/20\n",
      "256000/256000 [==============================] - 12s 49us/step - loss: 0.4203 - acc: 0.8318 - val_loss: 0.4194 - val_acc: 0.8317\n",
      "Epoch 15/20\n",
      "256000/256000 [==============================] - 8s 31us/step - loss: 0.4201 - acc: 0.8319 - val_loss: 0.4197 - val_acc: 0.8316\n",
      "Epoch 16/20\n",
      "256000/256000 [==============================] - 7s 29us/step - loss: 0.4198 - acc: 0.8318 - val_loss: 0.4199 - val_acc: 0.8313\n",
      "Epoch 17/20\n",
      "256000/256000 [==============================] - 7s 28us/step - loss: 0.4195 - acc: 0.8318 - val_loss: 0.4198 - val_acc: 0.8309\n",
      "Epoch 18/20\n",
      "256000/256000 [==============================] - 7s 29us/step - loss: 0.4191 - acc: 0.8319 - val_loss: 0.4196 - val_acc: 0.8312\n",
      "Epoch 19/20\n",
      "256000/256000 [==============================] - 7s 28us/step - loss: 0.4189 - acc: 0.8319 - val_loss: 0.4197 - val_acc: 0.8313\n",
      "Epoch 20/20\n",
      "256000/256000 [==============================] - 7s 28us/step - loss: 0.4186 - acc: 0.8318 - val_loss: 0.4196 - val_acc: 0.8310\n",
      "80000/80000 [==============================] - 2s 26us/step\n",
      "Train on 256000 samples, validate on 64000 samples\n",
      "Epoch 1/20\n",
      "256000/256000 [==============================] - 8s 33us/step - loss: 0.4349 - acc: 0.8300 - val_loss: 0.4291 - val_acc: 0.8298\n",
      "Epoch 2/20\n",
      "256000/256000 [==============================] - 9s 37us/step - loss: 0.4286 - acc: 0.8304 - val_loss: 0.4270 - val_acc: 0.8298\n",
      "Epoch 3/20\n",
      "256000/256000 [==============================] - 10s 37us/step - loss: 0.4265 - acc: 0.8307 - val_loss: 0.4252 - val_acc: 0.8303\n",
      "Epoch 4/20\n",
      "256000/256000 [==============================] - 11s 42us/step - loss: 0.4250 - acc: 0.8312 - val_loss: 0.4258 - val_acc: 0.8302\n",
      "Epoch 5/20\n",
      "256000/256000 [==============================] - 9s 36us/step - loss: 0.4241 - acc: 0.8313 - val_loss: 0.4247 - val_acc: 0.8307\n",
      "Epoch 6/20\n",
      "256000/256000 [==============================] - 10s 39us/step - loss: 0.4233 - acc: 0.8318 - val_loss: 0.4220 - val_acc: 0.8309\n",
      "Epoch 7/20\n",
      "256000/256000 [==============================] - 10s 40us/step - loss: 0.4227 - acc: 0.8314 - val_loss: 0.4227 - val_acc: 0.8309\n",
      "Epoch 8/20\n",
      "256000/256000 [==============================] - 9s 35us/step - loss: 0.4221 - acc: 0.8316 - val_loss: 0.4219 - val_acc: 0.8308\n",
      "Epoch 9/20\n",
      "256000/256000 [==============================] - 9s 36us/step - loss: 0.4217 - acc: 0.8317 - val_loss: 0.4244 - val_acc: 0.8287\n",
      "Epoch 10/20\n",
      "256000/256000 [==============================] - 9s 37us/step - loss: 0.4211 - acc: 0.8318 - val_loss: 0.4212 - val_acc: 0.8311\n",
      "Epoch 11/20\n",
      "256000/256000 [==============================] - 9s 37us/step - loss: 0.4209 - acc: 0.8318 - val_loss: 0.4231 - val_acc: 0.8307\n",
      "Epoch 12/20\n",
      "256000/256000 [==============================] - 10s 38us/step - loss: 0.4204 - acc: 0.8318 - val_loss: 0.4202 - val_acc: 0.8308\n",
      "Epoch 13/20\n",
      "256000/256000 [==============================] - 10s 39us/step - loss: 0.4200 - acc: 0.8318 - val_loss: 0.4199 - val_acc: 0.8311\n",
      "Epoch 14/20\n",
      "256000/256000 [==============================] - 10s 37us/step - loss: 0.4198 - acc: 0.8317 - val_loss: 0.4193 - val_acc: 0.8313\n",
      "Epoch 15/20\n",
      "256000/256000 [==============================] - 9s 37us/step - loss: 0.4197 - acc: 0.8319 - val_loss: 0.4192 - val_acc: 0.8309\n",
      "Epoch 16/20\n",
      "256000/256000 [==============================] - 10s 40us/step - loss: 0.4193 - acc: 0.8320 - val_loss: 0.4219 - val_acc: 0.8317\n",
      "Epoch 17/20\n",
      "256000/256000 [==============================] - 10s 39us/step - loss: 0.4191 - acc: 0.8321 - val_loss: 0.4196 - val_acc: 0.8312\n",
      "Epoch 18/20\n",
      "256000/256000 [==============================] - 9s 35us/step - loss: 0.4187 - acc: 0.8321 - val_loss: 0.4190 - val_acc: 0.8312\n",
      "Epoch 19/20\n",
      "256000/256000 [==============================] - 9s 33us/step - loss: 0.4185 - acc: 0.8320 - val_loss: 0.4179 - val_acc: 0.8312\n",
      "Epoch 20/20\n",
      "256000/256000 [==============================] - 9s 33us/step - loss: 0.4183 - acc: 0.8320 - val_loss: 0.4186 - val_acc: 0.8310\n",
      "80000/80000 [==============================] - 3s 36us/step\n",
      "Train on 256000 samples, validate on 64000 samples\n",
      "Epoch 1/20\n",
      "256000/256000 [==============================] - 9s 37us/step - loss: 0.4347 - acc: 0.8302 - val_loss: 0.4331 - val_acc: 0.8298\n",
      "Epoch 2/20\n",
      "256000/256000 [==============================] - 9s 35us/step - loss: 0.4281 - acc: 0.8306 - val_loss: 0.4263 - val_acc: 0.8303\n",
      "Epoch 3/20\n",
      "256000/256000 [==============================] - 9s 36us/step - loss: 0.4258 - acc: 0.8313 - val_loss: 0.4418 - val_acc: 0.8286\n",
      "Epoch 4/20\n",
      "256000/256000 [==============================] - 10s 37us/step - loss: 0.4246 - acc: 0.8312 - val_loss: 0.4238 - val_acc: 0.8303\n",
      "Epoch 5/20\n",
      "256000/256000 [==============================] - 10s 41us/step - loss: 0.4235 - acc: 0.8312 - val_loss: 0.4224 - val_acc: 0.8306\n",
      "Epoch 6/20\n",
      "256000/256000 [==============================] - 10s 38us/step - loss: 0.4229 - acc: 0.8315 - val_loss: 0.4229 - val_acc: 0.8309\n",
      "Epoch 7/20\n",
      "256000/256000 [==============================] - 9s 35us/step - loss: 0.4220 - acc: 0.8315 - val_loss: 0.4225 - val_acc: 0.8307\n",
      "Epoch 8/20\n",
      "256000/256000 [==============================] - 10s 39us/step - loss: 0.4215 - acc: 0.8317 - val_loss: 0.4219 - val_acc: 0.8295\n",
      "Epoch 9/20\n",
      "256000/256000 [==============================] - 10s 41us/step - loss: 0.4211 - acc: 0.8316 - val_loss: 0.4218 - val_acc: 0.8316\n",
      "Epoch 10/20\n",
      "256000/256000 [==============================] - 10s 41us/step - loss: 0.4205 - acc: 0.8316 - val_loss: 0.4205 - val_acc: 0.8309\n",
      "Epoch 11/20\n",
      "256000/256000 [==============================] - 10s 38us/step - loss: 0.4199 - acc: 0.8318 - val_loss: 0.4209 - val_acc: 0.8315\n",
      "Epoch 12/20\n",
      "256000/256000 [==============================] - 10s 40us/step - loss: 0.4197 - acc: 0.8318 - val_loss: 0.4194 - val_acc: 0.8316\n",
      "Epoch 13/20\n",
      "256000/256000 [==============================] - 9s 36us/step - loss: 0.4192 - acc: 0.8318 - val_loss: 0.4189 - val_acc: 0.8316\n",
      "Epoch 14/20\n",
      "256000/256000 [==============================] - 9s 37us/step - loss: 0.4189 - acc: 0.8320 - val_loss: 0.4194 - val_acc: 0.8317\n",
      "Epoch 15/20\n",
      "256000/256000 [==============================] - 9s 37us/step - loss: 0.4185 - acc: 0.8321 - val_loss: 0.4202 - val_acc: 0.8312\n",
      "Epoch 16/20\n",
      "256000/256000 [==============================] - 10s 38us/step - loss: 0.4183 - acc: 0.8320 - val_loss: 0.4181 - val_acc: 0.8312\n",
      "Epoch 17/20\n",
      "256000/256000 [==============================] - 10s 37us/step - loss: 0.4180 - acc: 0.8322 - val_loss: 0.4183 - val_acc: 0.8315\n",
      "Epoch 18/20\n",
      "256000/256000 [==============================] - 9s 36us/step - loss: 0.4177 - acc: 0.8318 - val_loss: 0.4202 - val_acc: 0.8318\n",
      "Epoch 19/20\n",
      "256000/256000 [==============================] - 10s 39us/step - loss: 0.4174 - acc: 0.8320 - val_loss: 0.4179 - val_acc: 0.8316\n",
      "Epoch 20/20\n",
      "256000/256000 [==============================] - 9s 36us/step - loss: 0.4172 - acc: 0.8321 - val_loss: 0.4183 - val_acc: 0.8315\n",
      "80000/80000 [==============================] - 3s 37us/step\n"
     ]
    }
   ],
   "source": [
    "#specify vector of learning rates we will test\n",
    "LEARN_R = [0.1,0.2, 0.3, 0.5]\n",
    "test_score = []\n",
    "test_accuracy = []\n",
    "\n",
    "for i in LEARN_R:\n",
    "    model = Sequential()\n",
    "\n",
    "    # Hidden layer 1 with 128 hidden units and ReLu activation function\n",
    "    model.add(Dense(N_HIDDEN, input_shape=(INPUT_SHAPE,)))\n",
    "    model.add(Activation('relu'))\n",
    "    # Hidden layer 2 with 128 hidden units and ReLu activation function\n",
    "    model.add(Dense(N_HIDDEN))\n",
    "    model.add(Activation('relu'))\n",
    "    # Hidden layer 3 with 128 hidden units and ReLu activation function\n",
    "    model.add(Dense(N_HIDDEN))\n",
    "    model.add(Activation('relu'))\n",
    "    # Hidden layer 4 with 128 hidden units and ReLu activation function\n",
    "    model.add(Dense(N_HIDDEN))\n",
    "    model.add(Activation('relu'))\n",
    "\n",
    "    # output layer with 10 units and softmax activation\n",
    "    model.add(Dense(1))\n",
    "    model.add(Activation('sigmoid'))\n",
    "\n",
    "    #for each loop we want to use a new value for the learning rate\n",
    "    OPTIMIZER = SGD(lr = i)    \n",
    "\n",
    "    # compilation\n",
    "    model.compile(loss='binary_crossentropy', \n",
    "                  optimizer=OPTIMIZER, metrics=['accuracy'])\n",
    "    \n",
    "    #train the network\n",
    "    history = model.fit(X_train, y_train, \n",
    "                        batch_size=BATCH_SIZE, epochs=N_EPOCH, \n",
    "                        verbose=VERBOSE, validation_split=VALIDATION_SPLIT)\n",
    "\n",
    "    #get the score and store them to print after finish\n",
    "    score = model.evaluate(X_test, y_test, verbose=VERBOSE)\n",
    "    test_score.append(score[0])\n",
    "    test_accuracy.append(score[1])"
   ]
  },
  {
   "cell_type": "code",
   "execution_count": 61,
   "metadata": {},
   "outputs": [
    {
     "name": "stdout",
     "output_type": "stream",
     "text": [
      "\n",
      "Using learning rate 0.1 gave:\n",
      "Test score/loss 0.4227749087691307\n",
      "Test accuracy: 0.832125\n",
      "\n",
      "Using learning rate 0.2 gave:\n",
      "Test score/loss 0.42122393339276315\n",
      "Test accuracy: 0.831875\n",
      "\n",
      "Using learning rate 0.3 gave:\n",
      "Test score/loss 0.41971718744635583\n",
      "Test accuracy: 0.8317625\n",
      "\n",
      "Using learning rate 0.5 gave:\n",
      "Test score/loss 0.41991469141840937\n",
      "Test accuracy: 0.8324\n"
     ]
    }
   ],
   "source": [
    "for i in range(len(LEARN_R)):\n",
    "    print(\"\\nUsing learning rate \" + str(LEARN_R[i]) + \" gave:\")\n",
    "    print(\"Test score/loss\", test_score[i])\n",
    "    print(\"Test accuracy:\", test_accuracy[i])"
   ]
  },
  {
   "cell_type": "code",
   "execution_count": 62,
   "metadata": {},
   "outputs": [
    {
     "data": {
      "image/png": "[encoded data removed]",
      "text/plain": [
       "<Figure size 432x288 with 1 Axes>"
      ]
     },
     "metadata": {},
     "output_type": "display_data"
    }
   ],
   "source": [
    "# summarize history for accuracy\n",
    "plt.plot(history.history['acc'])\n",
    "plt.plot(history.history['val_acc'])\n",
    "plt.title('model accuracy')\n",
    "plt.ylabel('accuracy')\n",
    "plt.xlabel('epoch')\n",
    "plt.legend(['train', 'test'], loc='upper left')\n",
    "plt.show()"
   ]
  },
  {
   "cell_type": "code",
   "execution_count": 63,
   "metadata": {},
   "outputs": [
    {
     "data": {
      "image/png": "[encoded data removed]",
      "text/plain": [
       "<Figure size 432x288 with 1 Axes>"
      ]
     },
     "metadata": {},
     "output_type": "display_data"
    }
   ],
   "source": [
    "# summarize history for loss\n",
    "plt.plot(history.history['loss'])\n",
    "plt.plot(history.history['val_loss'])\n",
    "plt.title('model loss')\n",
    "plt.ylabel('loss')\n",
    "plt.xlabel('epoch')\n",
    "plt.legend(['train', 'test'], loc='upper left')\n",
    "plt.show()"
   ]
  },
  {
   "cell_type": "markdown",
   "metadata": {},
   "source": [
    "# Hyperparameter tuning: Optimizer"
   ]
  },
  {
   "cell_type": "code",
   "execution_count": 65,
   "metadata": {},
   "outputs": [
    {
     "name": "stdout",
     "output_type": "stream",
     "text": [
      "Train on 256000 samples, validate on 64000 samples\n",
      "Epoch 1/20\n",
      "256000/256000 [==============================] - 12s 45us/step - loss: 0.4292 - acc: 0.8302 - val_loss: 0.4260 - val_acc: 0.8300\n",
      "Epoch 2/20\n",
      "256000/256000 [==============================] - 11s 44us/step - loss: 0.4245 - acc: 0.8306 - val_loss: 0.4237 - val_acc: 0.8298\n",
      "Epoch 3/20\n",
      "256000/256000 [==============================] - 10s 41us/step - loss: 0.4230 - acc: 0.8312 - val_loss: 0.4223 - val_acc: 0.8304\n",
      "Epoch 4/20\n",
      "256000/256000 [==============================] - 10s 37us/step - loss: 0.4221 - acc: 0.8316 - val_loss: 0.4218 - val_acc: 0.8306\n",
      "Epoch 5/20\n",
      "256000/256000 [==============================] - 10s 37us/step - loss: 0.4213 - acc: 0.8316 - val_loss: 0.4212 - val_acc: 0.8308\n",
      "Epoch 6/20\n",
      "256000/256000 [==============================] - 10s 38us/step - loss: 0.4208 - acc: 0.8319 - val_loss: 0.4208 - val_acc: 0.8308\n",
      "Epoch 7/20\n",
      "256000/256000 [==============================] - 11s 41us/step - loss: 0.4203 - acc: 0.8318 - val_loss: 0.4219 - val_acc: 0.8307\n",
      "Epoch 8/20\n",
      "256000/256000 [==============================] - 11s 42us/step - loss: 0.4200 - acc: 0.8318 - val_loss: 0.4204 - val_acc: 0.8308\n",
      "Epoch 9/20\n",
      "256000/256000 [==============================] - 10s 37us/step - loss: 0.4196 - acc: 0.8318 - val_loss: 0.4200 - val_acc: 0.8308\n",
      "Epoch 10/20\n",
      "256000/256000 [==============================] - 11s 44us/step - loss: 0.4194 - acc: 0.8319 - val_loss: 0.4200 - val_acc: 0.8310\n",
      "Epoch 11/20\n",
      "256000/256000 [==============================] - 10s 41us/step - loss: 0.4190 - acc: 0.8319 - val_loss: 0.4200 - val_acc: 0.8314\n",
      "Epoch 12/20\n",
      "256000/256000 [==============================] - 10s 40us/step - loss: 0.4189 - acc: 0.8320 - val_loss: 0.4200 - val_acc: 0.8313\n",
      "Epoch 13/20\n",
      "256000/256000 [==============================] - 10s 41us/step - loss: 0.4187 - acc: 0.8319 - val_loss: 0.4195 - val_acc: 0.8313\n",
      "Epoch 14/20\n",
      "256000/256000 [==============================] - 11s 42us/step - loss: 0.4184 - acc: 0.8319 - val_loss: 0.4197 - val_acc: 0.8310\n",
      "Epoch 15/20\n",
      "256000/256000 [==============================] - 10s 40us/step - loss: 0.4182 - acc: 0.8320 - val_loss: 0.4197 - val_acc: 0.8313\n",
      "Epoch 16/20\n",
      "256000/256000 [==============================] - 10s 39us/step - loss: 0.4181 - acc: 0.8319 - val_loss: 0.4194 - val_acc: 0.8311\n",
      "Epoch 17/20\n",
      "256000/256000 [==============================] - 10s 39us/step - loss: 0.4180 - acc: 0.8321 - val_loss: 0.4192 - val_acc: 0.8314\n",
      "Epoch 18/20\n",
      "256000/256000 [==============================] - 10s 39us/step - loss: 0.4178 - acc: 0.8321 - val_loss: 0.4194 - val_acc: 0.8311\n",
      "Epoch 19/20\n",
      "256000/256000 [==============================] - 10s 39us/step - loss: 0.4177 - acc: 0.8320 - val_loss: 0.4192 - val_acc: 0.8312\n",
      "Epoch 20/20\n",
      "256000/256000 [==============================] - 10s 38us/step - loss: 0.4175 - acc: 0.8321 - val_loss: 0.4195 - val_acc: 0.8314\n",
      "80000/80000 [==============================] - 3s 40us/step\n",
      "Train on 256000 samples, validate on 64000 samples\n",
      "Epoch 1/20\n",
      "256000/256000 [==============================] - 11s 43us/step - loss: 0.4312 - acc: 0.8302 - val_loss: 0.4260 - val_acc: 0.8299\n",
      "Epoch 2/20\n",
      "256000/256000 [==============================] - 10s 39us/step - loss: 0.4252 - acc: 0.8312 - val_loss: 0.4243 - val_acc: 0.8289\n",
      "Epoch 3/20\n",
      "256000/256000 [==============================] - 11s 41us/step - loss: 0.4232 - acc: 0.8315 - val_loss: 0.4223 - val_acc: 0.8308\n",
      "Epoch 4/20\n",
      "256000/256000 [==============================] - 11s 42us/step - loss: 0.4223 - acc: 0.8317 - val_loss: 0.4211 - val_acc: 0.8309\n",
      "Epoch 5/20\n",
      "256000/256000 [==============================] - 10s 40us/step - loss: 0.4212 - acc: 0.8317 - val_loss: 0.4224 - val_acc: 0.8310\n",
      "Epoch 6/20\n",
      "256000/256000 [==============================] - 11s 42us/step - loss: 0.4204 - acc: 0.8318 - val_loss: 0.4211 - val_acc: 0.8311\n",
      "Epoch 7/20\n",
      "256000/256000 [==============================] - 11s 41us/step - loss: 0.4196 - acc: 0.8318 - val_loss: 0.4260 - val_acc: 0.8307\n",
      "Epoch 8/20\n",
      "256000/256000 [==============================] - 11s 42us/step - loss: 0.4189 - acc: 0.8319 - val_loss: 0.4198 - val_acc: 0.8312\n",
      "Epoch 9/20\n",
      "256000/256000 [==============================] - 11s 42us/step - loss: 0.4184 - acc: 0.8319 - val_loss: 0.4198 - val_acc: 0.8316\n",
      "Epoch 10/20\n",
      "256000/256000 [==============================] - 11s 42us/step - loss: 0.4177 - acc: 0.8322 - val_loss: 0.4208 - val_acc: 0.8310\n",
      "Epoch 11/20\n",
      "256000/256000 [==============================] - 12s 46us/step - loss: 0.4175 - acc: 0.8322 - val_loss: 0.4203 - val_acc: 0.8317\n",
      "Epoch 12/20\n",
      "256000/256000 [==============================] - 10s 39us/step - loss: 0.4169 - acc: 0.8323 - val_loss: 0.4195 - val_acc: 0.8318\n",
      "Epoch 13/20\n",
      "256000/256000 [==============================] - 8s 33us/step - loss: 0.4167 - acc: 0.8324 - val_loss: 0.4208 - val_acc: 0.8314\n",
      "Epoch 14/20\n",
      "256000/256000 [==============================] - 8s 32us/step - loss: 0.4163 - acc: 0.8322 - val_loss: 0.4188 - val_acc: 0.8316\n",
      "Epoch 15/20\n",
      "256000/256000 [==============================] - 8s 33us/step - loss: 0.4159 - acc: 0.8324 - val_loss: 0.4184 - val_acc: 0.8313\n",
      "Epoch 16/20\n",
      "256000/256000 [==============================] - 8s 33us/step - loss: 0.4156 - acc: 0.8325 - val_loss: 0.4183 - val_acc: 0.8314\n",
      "Epoch 17/20\n",
      "256000/256000 [==============================] - 8s 33us/step - loss: 0.4152 - acc: 0.8325 - val_loss: 0.4178 - val_acc: 0.8316\n",
      "Epoch 18/20\n",
      "256000/256000 [==============================] - 8s 32us/step - loss: 0.4149 - acc: 0.8326 - val_loss: 0.4178 - val_acc: 0.8317\n",
      "Epoch 19/20\n",
      "256000/256000 [==============================] - 9s 33us/step - loss: 0.4146 - acc: 0.8326 - val_loss: 0.4175 - val_acc: 0.8318\n",
      "Epoch 20/20\n",
      "256000/256000 [==============================] - 8s 32us/step - loss: 0.4143 - acc: 0.8327 - val_loss: 0.4183 - val_acc: 0.8318\n",
      "80000/80000 [==============================] - 2s 28us/step\n",
      "Train on 256000 samples, validate on 64000 samples\n",
      "Epoch 1/20\n",
      "256000/256000 [==============================] - 9s 34us/step - loss: 0.4319 - acc: 0.8300 - val_loss: 0.4284 - val_acc: 0.8306\n",
      "Epoch 2/20\n",
      "256000/256000 [==============================] - 8s 30us/step - loss: 0.4271 - acc: 0.8309 - val_loss: 0.4272 - val_acc: 0.8304\n",
      "Epoch 3/20\n",
      "256000/256000 [==============================] - 8s 31us/step - loss: 0.4257 - acc: 0.8313 - val_loss: 0.4242 - val_acc: 0.8308\n",
      "Epoch 4/20\n",
      "256000/256000 [==============================] - 8s 30us/step - loss: 0.4249 - acc: 0.8313 - val_loss: 0.4274 - val_acc: 0.8309\n",
      "Epoch 5/20\n",
      "256000/256000 [==============================] - 8s 30us/step - loss: 0.4244 - acc: 0.8313 - val_loss: 0.4257 - val_acc: 0.8315\n",
      "Epoch 6/20\n",
      "256000/256000 [==============================] - 8s 31us/step - loss: 0.4240 - acc: 0.8315 - val_loss: 0.4231 - val_acc: 0.8310\n",
      "Epoch 7/20\n",
      "256000/256000 [==============================] - 8s 33us/step - loss: 0.4237 - acc: 0.8318 - val_loss: 0.4230 - val_acc: 0.8305\n",
      "Epoch 8/20\n",
      "256000/256000 [==============================] - 11s 42us/step - loss: 0.4235 - acc: 0.8315 - val_loss: 0.4259 - val_acc: 0.8308\n",
      "Epoch 9/20\n",
      "256000/256000 [==============================] - 10s 38us/step - loss: 0.4234 - acc: 0.8315 - val_loss: 0.4243 - val_acc: 0.8307\n",
      "Epoch 10/20\n",
      "256000/256000 [==============================] - 10s 40us/step - loss: 0.4235 - acc: 0.8316 - val_loss: 0.4227 - val_acc: 0.8315\n",
      "Epoch 11/20\n",
      "256000/256000 [==============================] - 11s 41us/step - loss: 0.4233 - acc: 0.8316 - val_loss: 0.4240 - val_acc: 0.8306\n",
      "Epoch 12/20\n",
      "256000/256000 [==============================] - 10s 39us/step - loss: 0.4233 - acc: 0.8318 - val_loss: 0.4236 - val_acc: 0.8299\n",
      "Epoch 13/20\n",
      "256000/256000 [==============================] - 10s 39us/step - loss: 0.4230 - acc: 0.8317 - val_loss: 0.4222 - val_acc: 0.8314\n",
      "Epoch 14/20\n",
      "256000/256000 [==============================] - 9s 37us/step - loss: 0.4230 - acc: 0.8317 - val_loss: 0.4254 - val_acc: 0.8302\n",
      "Epoch 15/20\n",
      "256000/256000 [==============================] - 9s 37us/step - loss: 0.4230 - acc: 0.8319 - val_loss: 0.4221 - val_acc: 0.8312\n",
      "Epoch 16/20\n",
      "256000/256000 [==============================] - 9s 36us/step - loss: 0.4227 - acc: 0.8319 - val_loss: 0.4229 - val_acc: 0.8305\n",
      "Epoch 17/20\n",
      "256000/256000 [==============================] - 9s 36us/step - loss: 0.4229 - acc: 0.8318 - val_loss: 0.4266 - val_acc: 0.8308\n",
      "Epoch 18/20\n",
      "256000/256000 [==============================] - 9s 37us/step - loss: 0.4227 - acc: 0.8318 - val_loss: 0.4223 - val_acc: 0.8309\n",
      "Epoch 19/20\n",
      "256000/256000 [==============================] - 9s 36us/step - loss: 0.4228 - acc: 0.8320 - val_loss: 0.4239 - val_acc: 0.8307\n",
      "Epoch 20/20\n",
      "256000/256000 [==============================] - 9s 36us/step - loss: 0.4225 - acc: 0.8318 - val_loss: 0.4235 - val_acc: 0.8317\n",
      "80000/80000 [==============================] - 3s 40us/step\n"
     ]
    }
   ],
   "source": [
    "#define vector with optimization algorithms to try\n",
    "OPTIMIZER = [\"Adagrad\", \"Adam\", \"RMSprop\"]\n",
    "test_score = []\n",
    "test_accuracy = []\n",
    "\n",
    "for i in OPTIMIZER:\n",
    "    model = Sequential()\n",
    "\n",
    "    # Hidden layer 1 with 128 hidden units and ReLu activation function\n",
    "    model.add(Dense(N_HIDDEN, input_shape=(INPUT_SHAPE,)))\n",
    "    model.add(Activation('relu'))\n",
    "    # Hidden layer 2 with 128 hidden units and ReLu activation function\n",
    "    model.add(Dense(N_HIDDEN))\n",
    "    model.add(Activation('relu'))\n",
    "    # Hidden layer 3 with 128 hidden units and ReLu activation function\n",
    "    model.add(Dense(N_HIDDEN))\n",
    "    model.add(Activation('relu'))\n",
    "    # Hidden layer 4 with 128 hidden units and ReLu activation function\n",
    "    model.add(Dense(N_HIDDEN))\n",
    "    model.add(Activation('relu'))\n",
    "\n",
    "    # output layer with 10 units and softmax activation\n",
    "    model.add(Dense(1))\n",
    "    model.add(Activation('sigmoid'))\n",
    "    \n",
    "    # compilation with optimization algorithm i\n",
    "    model.compile(loss='binary_crossentropy', optimizer=i, metrics=['accuracy'])\n",
    "    \n",
    "    #train the network\n",
    "    history = model.fit(X_train, y_train, batch_size=BATCH_SIZE, \n",
    "                        epochs=N_EPOCH, verbose=VERBOSE, validation_split=0.2)\n",
    "\n",
    "    #get the score and store them to print after finish\n",
    "    score = model.evaluate(X_test, y_test, verbose=VERBOSE)\n",
    "    test_score.append(score[0])\n",
    "    test_accuracy.append(score[1])"
   ]
  },
  {
   "cell_type": "code",
   "execution_count": 66,
   "metadata": {},
   "outputs": [
    {
     "name": "stdout",
     "output_type": "stream",
     "text": [
      "\n",
      "Using Optimizer Adagrad gave:\n",
      "Test score/loss 0.4210247407913208\n",
      "Test accuracy: 0.83245\n",
      "\n",
      "Using Optimizer Adam gave:\n",
      "Test score/loss 0.4200598096847534\n",
      "Test accuracy: 0.832375\n",
      "\n",
      "Using Optimizer RMSprop gave:\n",
      "Test score/loss 0.4241208064317703\n",
      "Test accuracy: 0.832525\n"
     ]
    }
   ],
   "source": [
    "for i in range(len(OPTIMIZER)):\n",
    "    print(\"\\nUsing Optimizer \" + str(OPTIMIZER[i]) + \" gave:\")\n",
    "    print(\"Test score/loss\", test_score[i])\n",
    "    print(\"Test accuracy:\", test_accuracy[i])"
   ]
  },
  {
   "cell_type": "markdown",
   "metadata": {},
   "source": [
    "## Multilayer Perceptron with Focal Loss"
   ]
  },
  {
   "cell_type": "code",
   "execution_count": 118,
   "metadata": {},
   "outputs": [],
   "source": [
    "N_EPOCH = 20\n",
    "BATCH_SIZE = 128 \n",
    "VERBOSE = 1\n",
    "OPTIMIZER = Adam(lr=0.01)\n",
    "N_HIDDEN = 128 \n",
    "VALIDATION_SPLIT= 0.2 \n",
    "INPUT_SHAPE = X_train[1].size \n",
    "np.random.seed(222)"
   ]
  },
  {
   "cell_type": "code",
   "execution_count": 119,
   "metadata": {},
   "outputs": [],
   "source": [
    "_EPSILON = K.epsilon()\n",
    "\n",
    "def focal_loss(y_true, y_pred):\n",
    "   y_pred_hat = tf.where(tf.equal(y_true, 1), y_pred, 1-y_pred)\n",
    "   y_pred_hat = K.clip(y_pred_hat, _EPSILON, 1-_EPSILON)\n",
    "   return(K.mean(K.pow(1-y_pred_hat, 2) * keras.losses.binary_crossentropy(y_true, y_pred), axis=-1))"
   ]
  },
  {
   "cell_type": "code",
   "execution_count": 120,
   "metadata": {},
   "outputs": [],
   "source": [
    "#create model object\n",
    "model = Sequential()\n",
    "\n",
    "# hidden layer 1 with 128 hidden units and ReLu activation function\n",
    "model.add(Dense(N_HIDDEN, input_shape=(INPUT_SHAPE,)))\n",
    "model.add(Activation('relu'))\n",
    "\n",
    "# hidden layer 2 with 128 hidden units and ReLu activation function\n",
    "model.add(Dense(N_HIDDEN))\n",
    "model.add(Activation('relu'))\n",
    "\n",
    "# hidden layer 3 with 128 hidden units and ReLu activation function\n",
    "model.add(Dense(N_HIDDEN))\n",
    "model.add(Activation('relu'))\n",
    "\n",
    "# hidden layer 4 with 128 hidden units and ReLu activation function\n",
    "model.add(Dense(N_HIDDEN))\n",
    "model.add(Activation('relu'))\n",
    "\n",
    "# output layer with 10 units (0-9) and softmax activation\n",
    "model.add(Dense(1))\n",
    "model.add(Activation('sigmoid'))\n",
    "\n",
    "# compilation\n",
    "model.compile(loss=[focal_loss], metrics=[\"accuracy\"], optimizer=OPTIMIZER)"
   ]
  },
  {
   "cell_type": "code",
   "execution_count": 121,
   "metadata": {},
   "outputs": [
    {
     "name": "stdout",
     "output_type": "stream",
     "text": [
      "Train on 256000 samples, validate on 64000 samples\n",
      "Epoch 1/20\n",
      "256000/256000 [==============================] - 14s 56us/step - loss: 0.0599 - acc: 0.8297 - val_loss: 0.0653 - val_acc: 0.8283\n",
      "Epoch 2/20\n",
      "256000/256000 [==============================] - 14s 55us/step - loss: 0.0588 - acc: 0.8303 - val_loss: 0.0583 - val_acc: 0.8300\n",
      "Epoch 3/20\n",
      "256000/256000 [==============================] - 15s 58us/step - loss: 0.0584 - acc: 0.8311 - val_loss: 0.0587 - val_acc: 0.8307\n",
      "Epoch 4/20\n",
      "256000/256000 [==============================] - 16s 62us/step - loss: 0.0582 - acc: 0.8311 - val_loss: 0.0581 - val_acc: 0.8308\n",
      "Epoch 5/20\n",
      "256000/256000 [==============================] - 12s 48us/step - loss: 0.0580 - acc: 0.8314 - val_loss: 0.0591 - val_acc: 0.8305\n",
      "Epoch 6/20\n",
      "256000/256000 [==============================] - 16s 62us/step - loss: 0.0581 - acc: 0.8313 - val_loss: 0.0578 - val_acc: 0.8309\n",
      "Epoch 7/20\n",
      "256000/256000 [==============================] - 14s 56us/step - loss: 0.0578 - acc: 0.8313 - val_loss: 0.0577 - val_acc: 0.8312\n",
      "Epoch 8/20\n",
      "256000/256000 [==============================] - 13s 50us/step - loss: 0.0577 - acc: 0.8315 - val_loss: 0.0575 - val_acc: 0.8311\n",
      "Epoch 9/20\n",
      "256000/256000 [==============================] - 12s 48us/step - loss: 0.0576 - acc: 0.8315 - val_loss: 0.0577 - val_acc: 0.8310\n",
      "Epoch 10/20\n",
      "256000/256000 [==============================] - 13s 50us/step - loss: 0.0575 - acc: 0.8313 - val_loss: 0.0576 - val_acc: 0.8309\n",
      "Epoch 11/20\n",
      "256000/256000 [==============================] - 12s 48us/step - loss: 0.0574 - acc: 0.8317 - val_loss: 0.0578 - val_acc: 0.8310\n",
      "Epoch 12/20\n",
      "256000/256000 [==============================] - 15s 59us/step - loss: 0.0575 - acc: 0.8315 - val_loss: 0.0576 - val_acc: 0.8312\n",
      "Epoch 13/20\n",
      "256000/256000 [==============================] - 15s 60us/step - loss: 0.0572 - acc: 0.8318 - val_loss: 0.0573 - val_acc: 0.8309\n",
      "Epoch 14/20\n",
      "256000/256000 [==============================] - 15s 58us/step - loss: 0.0572 - acc: 0.8318 - val_loss: 0.0572 - val_acc: 0.8313\n",
      "Epoch 15/20\n",
      "256000/256000 [==============================] - 11s 45us/step - loss: 0.0571 - acc: 0.8319 - val_loss: 0.0572 - val_acc: 0.8312\n",
      "Epoch 16/20\n",
      "256000/256000 [==============================] - 12s 48us/step - loss: 0.0572 - acc: 0.8320 - val_loss: 0.0572 - val_acc: 0.8310\n",
      "Epoch 17/20\n",
      "256000/256000 [==============================] - 15s 58us/step - loss: 0.0572 - acc: 0.8320 - val_loss: 0.0573 - val_acc: 0.8315\n",
      "Epoch 18/20\n",
      "256000/256000 [==============================] - 12s 46us/step - loss: 0.0571 - acc: 0.8320 - val_loss: 0.0576 - val_acc: 0.8310\n",
      "Epoch 19/20\n",
      "256000/256000 [==============================] - 13s 52us/step - loss: 0.0571 - acc: 0.8319 - val_loss: 0.0574 - val_acc: 0.8304\n",
      "Epoch 20/20\n",
      "256000/256000 [==============================] - 14s 55us/step - loss: 0.0571 - acc: 0.8319 - val_loss: 0.0582 - val_acc: 0.8316\n"
     ]
    }
   ],
   "source": [
    "#train the network\n",
    "history = model.fit(X_train, \n",
    "                    y_train, batch_size=BATCH_SIZE, \n",
    "                    epochs=N_EPOCH, verbose=VERBOSE, \n",
    "                    validation_split=VALIDATION_SPLIT)"
   ]
  },
  {
   "cell_type": "code",
   "execution_count": 122,
   "metadata": {},
   "outputs": [
    {
     "name": "stdout",
     "output_type": "stream",
     "text": [
      "80000/80000 [==============================] - 3s 43us/step\n",
      "\n",
      "Test score/loss: 0.0620895591202192\n",
      "Test accuracy: 0.832575\n"
     ]
    }
   ],
   "source": [
    "#test the network\n",
    "score = model.evaluate(X_test, y_test, verbose=VERBOSE)\n",
    "print(\"\\nTest score/loss:\", score[0])\n",
    "print(\"Test accuracy:\", score[1])"
   ]
  },
  {
   "cell_type": "code",
   "execution_count": 123,
   "metadata": {},
   "outputs": [
    {
     "data": {
      "image/png": "[encoded data removed]",
      "text/plain": [
       "<Figure size 432x288 with 1 Axes>"
      ]
     },
     "metadata": {},
     "output_type": "display_data"
    }
   ],
   "source": [
    "# summarize history for accuracy\n",
    "plt.plot(history.history['acc'])\n",
    "plt.plot(history.history['val_acc'])\n",
    "plt.title('model accuracy')\n",
    "plt.ylabel('accuracy')\n",
    "plt.xlabel('epoch')\n",
    "plt.legend(['train', 'test'], loc='upper left')\n",
    "plt.show()"
   ]
  },
  {
   "cell_type": "code",
   "execution_count": 124,
   "metadata": {},
   "outputs": [
    {
     "data": {
      "image/png": "[encoded data removed]",
      "text/plain": [
       "<Figure size 432x288 with 1 Axes>"
      ]
     },
     "metadata": {},
     "output_type": "display_data"
    }
   ],
   "source": [
    "# summarize history for loss\n",
    "plt.plot(history.history['loss'])\n",
    "plt.plot(history.history['val_loss'])\n",
    "plt.title('model loss')\n",
    "plt.ylabel('loss')\n",
    "plt.xlabel('epoch')\n",
    "plt.legend(['train', 'test'], loc='upper left')\n",
    "plt.show()"
   ]
  },
  {
   "cell_type": "markdown",
   "metadata": {},
   "source": [
    "## Calculating Metrics for comparison"
   ]
  },
  {
   "cell_type": "code",
   "execution_count": 125,
   "metadata": {},
   "outputs": [],
   "source": [
    "y_probs = model.predict_classes(X_test)\n",
    "yhat_classes = y_probs[:,0]"
   ]
  },
  {
   "cell_type": "code",
   "execution_count": 126,
   "metadata": {},
   "outputs": [
    {
     "name": "stdout",
     "output_type": "stream",
     "text": [
      "ROC AUC: 0.525703\n"
     ]
    }
   ],
   "source": [
    "#AUC\n",
    "auc = roc_auc_score(y_test, yhat_classes)\n",
    "print('ROC AUC: %f' % auc)"
   ]
  },
  {
   "cell_type": "code",
   "execution_count": 127,
   "metadata": {},
   "outputs": [
    {
     "name": "stdout",
     "output_type": "stream",
     "text": [
      "              precision    recall  f1-score   support\n",
      "\n",
      "           0       0.84      0.99      0.91     66416\n",
      "           1       0.56      0.06      0.11     13584\n",
      "\n",
      "    accuracy                           0.83     80000\n",
      "   macro avg       0.70      0.53      0.51     80000\n",
      "weighted avg       0.79      0.83      0.77     80000\n",
      "\n"
     ]
    }
   ],
   "source": [
    "print(classification_report(y_test, yhat_classes))"
   ]
  },
  {
   "cell_type": "code",
   "execution_count": null,
   "metadata": {},
   "outputs": [],
   "source": []
  }
 ],
 "metadata": {
  "kernelspec": {
   "display_name": "Python 3",
   "language": "python",
   "name": "python3"
  },
  "language_info": {
   "codemirror_mode": {
    "name": "ipython",
    "version": 3
   },
   "file_extension": ".py",
   "mimetype": "text/x-python",
   "name": "python",
   "nbconvert_exporter": "python",
   "pygments_lexer": "ipython3",
   "version": "3.6.5"
  }
 },
 "nbformat": 4,
 "nbformat_minor": 2
}
